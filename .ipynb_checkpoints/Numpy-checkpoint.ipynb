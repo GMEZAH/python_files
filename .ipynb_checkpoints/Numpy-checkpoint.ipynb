{
 "cells": [
  {
   "cell_type": "markdown",
   "id": "3f867d21",
   "metadata": {},
   "source": [
    "# <a href=\"https://numpy.org/doc/stable/user/numpy-for-matlab-users.html\">Numpy</a> "
   ]
  },
  {
   "cell_type": "markdown",
   "id": "919efcc7",
   "metadata": {},
   "source": [
    "Numpy is the core library for scientific computing in Python. It provides a high-performance multidimensional array object, and tools for working with these arrays. If you are already familiar with MATLAB, you might find this tutorial useful to get started with Numpy."
   ]
  },
  {
   "cell_type": "markdown",
   "id": "23fd583f",
   "metadata": {},
   "source": [
    "## Arrays"
   ]
  },
  {
   "cell_type": "markdown",
   "id": "5a05d504",
   "metadata": {},
   "source": [
    "A numpy array is a grid of values, all of the same type, and is indexed by a tuple of nonnegative integers. The number of dimensions is the rank of the array; the shape of an array is a tuple of integers giving the size of the array along each dimension."
   ]
  },
  {
   "cell_type": "code",
   "execution_count": 1,
   "id": "8d52bd0e",
   "metadata": {},
   "outputs": [],
   "source": [
    "import numpy as np"
   ]
  },
  {
   "cell_type": "code",
   "execution_count": 2,
   "id": "4adfec74",
   "metadata": {},
   "outputs": [],
   "source": [
    "a = np.array( [1, 2, 3, 4, 5] )"
   ]
  },
  {
   "cell_type": "code",
   "execution_count": 3,
   "id": "a1dd9c9d",
   "metadata": {},
   "outputs": [
    {
     "data": {
      "text/plain": [
       "array([1, 2, 3, 4, 5])"
      ]
     },
     "execution_count": 3,
     "metadata": {},
     "output_type": "execute_result"
    }
   ],
   "source": [
    "a"
   ]
  },
  {
   "cell_type": "code",
   "execution_count": 4,
   "id": "0c55da50",
   "metadata": {},
   "outputs": [
    {
     "name": "stdout",
     "output_type": "stream",
     "text": [
      "[1 2 3 4 5]\n"
     ]
    }
   ],
   "source": [
    "# 1D array (Dimension)\n",
    "a = np.array( [1, 2, 3, 4, 5] )\n",
    "print(a)"
   ]
  },
  {
   "cell_type": "code",
   "execution_count": 5,
   "id": "e2c9f768",
   "metadata": {},
   "outputs": [
    {
     "name": "stdout",
     "output_type": "stream",
     "text": [
      "[[1 2 3]\n",
      " [4 5 6]]\n"
     ]
    }
   ],
   "source": [
    "# 2D array\n",
    "M = np.array( [ [1, 2, 3], [4, 5, 6] ] )\n",
    "\n",
    "print(M)"
   ]
  },
  {
   "cell_type": "code",
   "execution_count": 6,
   "id": "7566de8a",
   "metadata": {},
   "outputs": [
    {
     "data": {
      "text/plain": [
       "array([[1, 2, 3, 4],\n",
       "       [4, 5, 6, 7]])"
      ]
     },
     "execution_count": 6,
     "metadata": {},
     "output_type": "execute_result"
    }
   ],
   "source": [
    "X = np.array( [ [1, 2, 3, 4], [4, 5, 6, 7] ] )\n",
    "X"
   ]
  },
  {
   "cell_type": "markdown",
   "id": "25023210",
   "metadata": {},
   "source": [
    "|Function|\tDescription|\n",
    "| --- |--- |\n",
    "|np.array(a) |\tCreate -dimensional np array from sequence a|\n",
    "|np.linspace(a,b,N) |\tCreate 1D np array with N equally spaced values <br> from a to b (inclusively)|\n",
    "|np.arange(a,b,step) |\tCreate 1D np array with values from a to b (exclusively) <br> incremented by step|\n",
    "|np.zeros(N)\t| Create 1D np array of zeros of length |\n",
    "|np.zeros((n,m)) |\tCreate 2D np array of zeros with  rows and  columns|\n",
    "|np.ones(N) |\tCreate 1D np array of ones of length |\n",
    "|np.ones((n,m))|\tCreate 2D np array of ones with  rows and  columns|\n",
    "|np.eye(N)\t| Create 2D np array with  rows and  columns  <br> with ones on the diagonal  (ie. the identity matrix of size )|\n",
    "|np.concatenate( )|Join a sequence of arrays along an existing axis|\n",
    "|np.hstack( )|Stack arrays in sequence horizontally(column wise)|\n",
    "|np.vstack( )|Stack arrays in sequence vertically(row wise)|\n",
    "|np.column_stack( )|Stack 1-D arrays as columns into a 2-D array|\n",
    "|np.random.normal() | Draw random samples from a normal (Gaussian) distribution. |\n",
    "|np.linalg.inv() | Compute the (multiplicative) inverse of a matrix. |\n",
    "|np.dot() / @  | Matrix Multiplication. |"
   ]
  },
  {
   "cell_type": "code",
   "execution_count": 8,
   "id": "009972f2",
   "metadata": {},
   "outputs": [
    {
     "name": "stdout",
     "output_type": "stream",
     "text": [
      "[0.  0.1 0.2 0.3 0.4 0.5 0.6 0.7 0.8 0.9 1. ]\n"
     ]
    }
   ],
   "source": [
    "# Create a 1D NumPy array with 11 equally spaced values from 0 to 1:\n",
    "x = np.linspace( 0, 1, 11 )\n",
    "print(x)"
   ]
  },
  {
   "cell_type": "code",
   "execution_count": 11,
   "id": "2ab31294",
   "metadata": {},
   "outputs": [
    {
     "name": "stdout",
     "output_type": "stream",
     "text": [
      "[ 0  1  2  3  4  5  6  7  8  9 10 11 12 13 14 15 16 17 18 19]\n"
     ]
    }
   ],
   "source": [
    "# Create a 1D NumPy array with values from 0 to 20 (exclusively) incremented by 1:\n",
    "y = np.arange( 0, 20, 1 )\n",
    "print(y)"
   ]
  },
  {
   "cell_type": "code",
   "execution_count": 12,
   "id": "40e74b56",
   "metadata": {},
   "outputs": [
    {
     "name": "stdout",
     "output_type": "stream",
     "text": [
      "[0. 0. 0. 0. 0.]\n"
     ]
    }
   ],
   "source": [
    "# Create a 1D NumPy array of zeros of length 5:\n",
    "z = np.zeros(5)\n",
    "print(z)"
   ]
  },
  {
   "cell_type": "code",
   "execution_count": 13,
   "id": "4027f5a0",
   "metadata": {},
   "outputs": [
    {
     "name": "stdout",
     "output_type": "stream",
     "text": [
      "[[0. 0. 0. 0. 0. 0. 0. 0. 0. 0.]\n",
      " [0. 0. 0. 0. 0. 0. 0. 0. 0. 0.]\n",
      " [0. 0. 0. 0. 0. 0. 0. 0. 0. 0.]\n",
      " [0. 0. 0. 0. 0. 0. 0. 0. 0. 0.]\n",
      " [0. 0. 0. 0. 0. 0. 0. 0. 0. 0.]]\n"
     ]
    }
   ],
   "source": [
    "# Create a 2D NumPy array of zeros of shape ( 5, 10 ) :\n",
    "M = np.zeros( (5, 10) )\n",
    "print(M)"
   ]
  },
  {
   "cell_type": "code",
   "execution_count": 14,
   "id": "86f99ae9",
   "metadata": {},
   "outputs": [
    {
     "name": "stdout",
     "output_type": "stream",
     "text": [
      "[1. 1. 1. 1. 1. 1. 1.]\n"
     ]
    }
   ],
   "source": [
    "# Create a 1D NumPy array of ones of length 7:\n",
    "w = np.ones(7)\n",
    "print(w)"
   ]
  },
  {
   "cell_type": "code",
   "execution_count": 16,
   "id": "72f56e26",
   "metadata": {},
   "outputs": [
    {
     "name": "stdout",
     "output_type": "stream",
     "text": [
      "[[1. 1. 1. 1. 1.]\n",
      " [1. 1. 1. 1. 1.]\n",
      " [1. 1. 1. 1. 1.]\n",
      " [1. 1. 1. 1. 1.]\n",
      " [1. 1. 1. 1. 1.]]\n"
     ]
    }
   ],
   "source": [
    "# Create a 2D NumPy array of ones with 5 rows and 5 columns:\n",
    "N = np.ones( (5, 5) )\n",
    "print(N)"
   ]
  },
  {
   "cell_type": "code",
   "execution_count": 18,
   "id": "f8712bd8",
   "metadata": {},
   "outputs": [
    {
     "name": "stdout",
     "output_type": "stream",
     "text": [
      "[[1. 0. 0. 0. 0. 0. 0. 0. 0. 0.]\n",
      " [0. 1. 0. 0. 0. 0. 0. 0. 0. 0.]\n",
      " [0. 0. 1. 0. 0. 0. 0. 0. 0. 0.]\n",
      " [0. 0. 0. 1. 0. 0. 0. 0. 0. 0.]\n",
      " [0. 0. 0. 0. 1. 0. 0. 0. 0. 0.]\n",
      " [0. 0. 0. 0. 0. 1. 0. 0. 0. 0.]\n",
      " [0. 0. 0. 0. 0. 0. 1. 0. 0. 0.]\n",
      " [0. 0. 0. 0. 0. 0. 0. 1. 0. 0.]\n",
      " [0. 0. 0. 0. 0. 0. 0. 0. 1. 0.]\n",
      " [0. 0. 0. 0. 0. 0. 0. 0. 0. 1.]]\n"
     ]
    }
   ],
   "source": [
    "# Create the identity matrix of size 10:\n",
    "I = np.eye(10)\n",
    "print(I)"
   ]
  },
  {
   "cell_type": "code",
   "execution_count": 19,
   "id": "2a0ba8e6",
   "metadata": {},
   "outputs": [
    {
     "name": "stdout",
     "output_type": "stream",
     "text": [
      "(10, 10)\n"
     ]
    }
   ],
   "source": [
    "# Shape\n",
    "print( I.shape )"
   ]
  },
  {
   "cell_type": "code",
   "execution_count": 20,
   "id": "943fc1b2",
   "metadata": {},
   "outputs": [
    {
     "data": {
      "text/plain": [
       "array([[5, 6],\n",
       "       [7, 8]])"
      ]
     },
     "execution_count": 20,
     "metadata": {},
     "output_type": "execute_result"
    }
   ],
   "source": [
    "# Concatenate\n",
    "g = np.array([[5,6],[7,8]])\n",
    "g"
   ]
  },
  {
   "cell_type": "code",
   "execution_count": 21,
   "id": "11f583f9",
   "metadata": {},
   "outputs": [
    {
     "data": {
      "text/plain": [
       "array([[1, 2]])"
      ]
     },
     "execution_count": 21,
     "metadata": {},
     "output_type": "execute_result"
    }
   ],
   "source": [
    "h = np.array([[1,2]])\n",
    "h"
   ]
  },
  {
   "cell_type": "code",
   "execution_count": 22,
   "id": "5e398a33",
   "metadata": {},
   "outputs": [
    {
     "name": "stdout",
     "output_type": "stream",
     "text": [
      "[[5 6]\n",
      " [7 8]] \n",
      "\n",
      "[[1 2]] \n",
      "\n"
     ]
    }
   ],
   "source": [
    "print(g, \"\\n\")\n",
    "print(h , \"\\n\")"
   ]
  },
  {
   "cell_type": "code",
   "execution_count": 23,
   "id": "2e5ab1bf",
   "metadata": {},
   "outputs": [
    {
     "data": {
      "text/plain": [
       "(2, 2)"
      ]
     },
     "execution_count": 23,
     "metadata": {},
     "output_type": "execute_result"
    }
   ],
   "source": [
    "g.shape"
   ]
  },
  {
   "cell_type": "code",
   "execution_count": 24,
   "id": "0fff4ae2",
   "metadata": {},
   "outputs": [
    {
     "data": {
      "text/plain": [
       "(1, 2)"
      ]
     },
     "execution_count": 24,
     "metadata": {},
     "output_type": "execute_result"
    }
   ],
   "source": [
    "h.shape"
   ]
  },
  {
   "cell_type": "code",
   "execution_count": 25,
   "id": "4ce16b03",
   "metadata": {},
   "outputs": [
    {
     "data": {
      "text/plain": [
       "array([[1],\n",
       "       [2]])"
      ]
     },
     "execution_count": 25,
     "metadata": {},
     "output_type": "execute_result"
    }
   ],
   "source": [
    "h_2 = h.reshape(2, 1)\n",
    "h_2"
   ]
  },
  {
   "cell_type": "code",
   "execution_count": 26,
   "id": "00d87c78",
   "metadata": {},
   "outputs": [
    {
     "data": {
      "text/plain": [
       "array([[5, 6, 1],\n",
       "       [7, 8, 2]])"
      ]
     },
     "execution_count": 26,
     "metadata": {},
     "output_type": "execute_result"
    }
   ],
   "source": [
    "g_h = np.concatenate((g, h_2), axis = 1)\n",
    "g_h"
   ]
  },
  {
   "cell_type": "code",
   "execution_count": 27,
   "id": "07ce43c5",
   "metadata": {},
   "outputs": [
    {
     "data": {
      "text/plain": [
       "array([[5, 6, 1],\n",
       "       [7, 8, 2]])"
      ]
     },
     "execution_count": 27,
     "metadata": {},
     "output_type": "execute_result"
    }
   ],
   "source": [
    "jesus = np.hstack((g,h_2))\n",
    "jesus"
   ]
  },
  {
   "cell_type": "code",
   "execution_count": 28,
   "id": "9febe029",
   "metadata": {},
   "outputs": [],
   "source": [
    "# vstack \n",
    "x = np.array([1,1,1])\n",
    "y = np.array([2,2,2])\n",
    "z = np.array([3,3,3])"
   ]
  },
  {
   "cell_type": "code",
   "execution_count": 29,
   "id": "94fd3c42",
   "metadata": {},
   "outputs": [
    {
     "data": {
      "text/plain": [
       "array([[1, 1, 1],\n",
       "       [2, 2, 2],\n",
       "       [3, 3, 3]])"
      ]
     },
     "execution_count": 29,
     "metadata": {},
     "output_type": "execute_result"
    }
   ],
   "source": [
    "vstacked = np.vstack( (x, y, z) )\n",
    "vstacked"
   ]
  },
  {
   "cell_type": "code",
   "execution_count": 30,
   "id": "f2aba55b",
   "metadata": {},
   "outputs": [
    {
     "name": "stdout",
     "output_type": "stream",
     "text": [
      "[[1 1 1]\n",
      " [2 2 2]\n",
      " [3 3 3]]\n"
     ]
    }
   ],
   "source": [
    "vstacked = np.vstack((x,y,z))\n",
    "print(vstacked)"
   ]
  },
  {
   "cell_type": "code",
   "execution_count": 31,
   "id": "4229e614",
   "metadata": {},
   "outputs": [
    {
     "name": "stdout",
     "output_type": "stream",
     "text": [
      "[1 1 1 2 2 2 3 3 3]\n"
     ]
    }
   ],
   "source": [
    "# hstack \n",
    "hstacked = np.hstack((x,y,z))\n",
    "print(hstacked)"
   ]
  },
  {
   "cell_type": "markdown",
   "id": "5a2a141b",
   "metadata": {},
   "source": [
    "## OLS with Numpy"
   ]
  },
  {
   "cell_type": "code",
   "execution_count": 33,
   "id": "8cbcc58c",
   "metadata": {},
   "outputs": [
    {
     "data": {
      "text/plain": [
       "(200, 2)"
      ]
     },
     "execution_count": 33,
     "metadata": {},
     "output_type": "execute_result"
    }
   ],
   "source": [
    "# X data generation\n",
    "n_data = 200\n",
    "x1 = np.linspace(200, 500, n_data)\n",
    "x0 = np.ones(n_data)\n",
    "X = np.hstack(( x0.reshape(-1, 1 ) , x1.reshape(-1, 1 ) ))\n",
    "X.shape"
   ]
  },
  {
   "cell_type": "code",
   "execution_count": 34,
   "id": "af2a1d7c",
   "metadata": {},
   "outputs": [
    {
     "data": {
      "text/plain": [
       "(2, 1)"
      ]
     },
     "execution_count": 34,
     "metadata": {},
     "output_type": "execute_result"
    }
   ],
   "source": [
    "# select parameters\n",
    "beta = np.array([5, -2]).reshape(-1, 1 )\n",
    "beta.shape"
   ]
  },
  {
   "cell_type": "code",
   "execution_count": 35,
   "id": "55b0b729",
   "metadata": {},
   "outputs": [
    {
     "data": {
      "text/plain": [
       "(200, 1)"
      ]
     },
     "execution_count": 35,
     "metadata": {},
     "output_type": "execute_result"
    }
   ],
   "source": [
    "# y ture\n",
    "y_true = X @ beta\n",
    "y_true.shape"
   ]
  },
  {
   "cell_type": "code",
   "execution_count": 36,
   "id": "ed26d0a9",
   "metadata": {},
   "outputs": [
    {
     "data": {
      "text/plain": [
       "array([[-395.        ],\n",
       "       [-398.01507538],\n",
       "       [-401.03015075],\n",
       "       [-404.04522613],\n",
       "       [-407.06030151],\n",
       "       [-410.07537688],\n",
       "       [-413.09045226],\n",
       "       [-416.10552764],\n",
       "       [-419.12060302],\n",
       "       [-422.13567839],\n",
       "       [-425.15075377],\n",
       "       [-428.16582915],\n",
       "       [-431.18090452],\n",
       "       [-434.1959799 ],\n",
       "       [-437.21105528],\n",
       "       [-440.22613065],\n",
       "       [-443.24120603],\n",
       "       [-446.25628141],\n",
       "       [-449.27135678],\n",
       "       [-452.28643216],\n",
       "       [-455.30150754],\n",
       "       [-458.31658291],\n",
       "       [-461.33165829],\n",
       "       [-464.34673367],\n",
       "       [-467.36180905],\n",
       "       [-470.37688442],\n",
       "       [-473.3919598 ],\n",
       "       [-476.40703518],\n",
       "       [-479.42211055],\n",
       "       [-482.43718593],\n",
       "       [-485.45226131],\n",
       "       [-488.46733668],\n",
       "       [-491.48241206],\n",
       "       [-494.49748744],\n",
       "       [-497.51256281],\n",
       "       [-500.52763819],\n",
       "       [-503.54271357],\n",
       "       [-506.55778894],\n",
       "       [-509.57286432],\n",
       "       [-512.5879397 ],\n",
       "       [-515.60301508],\n",
       "       [-518.61809045],\n",
       "       [-521.63316583],\n",
       "       [-524.64824121],\n",
       "       [-527.66331658],\n",
       "       [-530.67839196],\n",
       "       [-533.69346734],\n",
       "       [-536.70854271],\n",
       "       [-539.72361809],\n",
       "       [-542.73869347],\n",
       "       [-545.75376884],\n",
       "       [-548.76884422],\n",
       "       [-551.7839196 ],\n",
       "       [-554.79899497],\n",
       "       [-557.81407035],\n",
       "       [-560.82914573],\n",
       "       [-563.84422111],\n",
       "       [-566.85929648],\n",
       "       [-569.87437186],\n",
       "       [-572.88944724],\n",
       "       [-575.90452261],\n",
       "       [-578.91959799],\n",
       "       [-581.93467337],\n",
       "       [-584.94974874],\n",
       "       [-587.96482412],\n",
       "       [-590.9798995 ],\n",
       "       [-593.99497487],\n",
       "       [-597.01005025],\n",
       "       [-600.02512563],\n",
       "       [-603.04020101],\n",
       "       [-606.05527638],\n",
       "       [-609.07035176],\n",
       "       [-612.08542714],\n",
       "       [-615.10050251],\n",
       "       [-618.11557789],\n",
       "       [-621.13065327],\n",
       "       [-624.14572864],\n",
       "       [-627.16080402],\n",
       "       [-630.1758794 ],\n",
       "       [-633.19095477],\n",
       "       [-636.20603015],\n",
       "       [-639.22110553],\n",
       "       [-642.2361809 ],\n",
       "       [-645.25125628],\n",
       "       [-648.26633166],\n",
       "       [-651.28140704],\n",
       "       [-654.29648241],\n",
       "       [-657.31155779],\n",
       "       [-660.32663317],\n",
       "       [-663.34170854],\n",
       "       [-666.35678392],\n",
       "       [-669.3718593 ],\n",
       "       [-672.38693467],\n",
       "       [-675.40201005],\n",
       "       [-678.41708543],\n",
       "       [-681.4321608 ],\n",
       "       [-684.44723618],\n",
       "       [-687.46231156],\n",
       "       [-690.47738693],\n",
       "       [-693.49246231],\n",
       "       [-696.50753769],\n",
       "       [-699.52261307],\n",
       "       [-702.53768844],\n",
       "       [-705.55276382],\n",
       "       [-708.5678392 ],\n",
       "       [-711.58291457],\n",
       "       [-714.59798995],\n",
       "       [-717.61306533],\n",
       "       [-720.6281407 ],\n",
       "       [-723.64321608],\n",
       "       [-726.65829146],\n",
       "       [-729.67336683],\n",
       "       [-732.68844221],\n",
       "       [-735.70351759],\n",
       "       [-738.71859296],\n",
       "       [-741.73366834],\n",
       "       [-744.74874372],\n",
       "       [-747.7638191 ],\n",
       "       [-750.77889447],\n",
       "       [-753.79396985],\n",
       "       [-756.80904523],\n",
       "       [-759.8241206 ],\n",
       "       [-762.83919598],\n",
       "       [-765.85427136],\n",
       "       [-768.86934673],\n",
       "       [-771.88442211],\n",
       "       [-774.89949749],\n",
       "       [-777.91457286],\n",
       "       [-780.92964824],\n",
       "       [-783.94472362],\n",
       "       [-786.95979899],\n",
       "       [-789.97487437],\n",
       "       [-792.98994975],\n",
       "       [-796.00502513],\n",
       "       [-799.0201005 ],\n",
       "       [-802.03517588],\n",
       "       [-805.05025126],\n",
       "       [-808.06532663],\n",
       "       [-811.08040201],\n",
       "       [-814.09547739],\n",
       "       [-817.11055276],\n",
       "       [-820.12562814],\n",
       "       [-823.14070352],\n",
       "       [-826.15577889],\n",
       "       [-829.17085427],\n",
       "       [-832.18592965],\n",
       "       [-835.20100503],\n",
       "       [-838.2160804 ],\n",
       "       [-841.23115578],\n",
       "       [-844.24623116],\n",
       "       [-847.26130653],\n",
       "       [-850.27638191],\n",
       "       [-853.29145729],\n",
       "       [-856.30653266],\n",
       "       [-859.32160804],\n",
       "       [-862.33668342],\n",
       "       [-865.35175879],\n",
       "       [-868.36683417],\n",
       "       [-871.38190955],\n",
       "       [-874.39698492],\n",
       "       [-877.4120603 ],\n",
       "       [-880.42713568],\n",
       "       [-883.44221106],\n",
       "       [-886.45728643],\n",
       "       [-889.47236181],\n",
       "       [-892.48743719],\n",
       "       [-895.50251256],\n",
       "       [-898.51758794],\n",
       "       [-901.53266332],\n",
       "       [-904.54773869],\n",
       "       [-907.56281407],\n",
       "       [-910.57788945],\n",
       "       [-913.59296482],\n",
       "       [-916.6080402 ],\n",
       "       [-919.62311558],\n",
       "       [-922.63819095],\n",
       "       [-925.65326633],\n",
       "       [-928.66834171],\n",
       "       [-931.68341709],\n",
       "       [-934.69849246],\n",
       "       [-937.71356784],\n",
       "       [-940.72864322],\n",
       "       [-943.74371859],\n",
       "       [-946.75879397],\n",
       "       [-949.77386935],\n",
       "       [-952.78894472],\n",
       "       [-955.8040201 ],\n",
       "       [-958.81909548],\n",
       "       [-961.83417085],\n",
       "       [-964.84924623],\n",
       "       [-967.86432161],\n",
       "       [-970.87939698],\n",
       "       [-973.89447236],\n",
       "       [-976.90954774],\n",
       "       [-979.92462312],\n",
       "       [-982.93969849],\n",
       "       [-985.95477387],\n",
       "       [-988.96984925],\n",
       "       [-991.98492462],\n",
       "       [-995.        ]])"
      ]
     },
     "execution_count": 36,
     "metadata": {},
     "output_type": "execute_result"
    }
   ],
   "source": [
    "y_true"
   ]
  },
  {
   "cell_type": "code",
   "execution_count": 37,
   "id": "f4fc5ba3",
   "metadata": {},
   "outputs": [
    {
     "data": {
      "text/plain": [
       "array([[ -417.49106438],\n",
       "       [ -421.34865651],\n",
       "       [ -361.87762841],\n",
       "       [ -407.88204783],\n",
       "       [ -453.20337069],\n",
       "       [ -443.46439892],\n",
       "       [ -407.86464047],\n",
       "       [ -417.26276043],\n",
       "       [ -412.33487317],\n",
       "       [ -429.09992056],\n",
       "       [ -416.66379078],\n",
       "       [ -410.70347219],\n",
       "       [ -413.48936203],\n",
       "       [ -430.69568643],\n",
       "       [ -444.43521534],\n",
       "       [ -454.39093018],\n",
       "       [ -430.92169041],\n",
       "       [ -440.25100116],\n",
       "       [ -465.57423764],\n",
       "       [ -459.364267  ],\n",
       "       [ -479.19226648],\n",
       "       [ -471.56670759],\n",
       "       [ -450.53155815],\n",
       "       [ -500.09094812],\n",
       "       [ -457.40780693],\n",
       "       [ -476.51874194],\n",
       "       [ -492.50004132],\n",
       "       [ -451.43897088],\n",
       "       [ -476.14669702],\n",
       "       [ -460.09959688],\n",
       "       [ -454.66360482],\n",
       "       [ -497.93560322],\n",
       "       [ -498.1169427 ],\n",
       "       [ -462.11600303],\n",
       "       [ -492.25544077],\n",
       "       [ -487.1793873 ],\n",
       "       [ -520.09185946],\n",
       "       [ -480.12031682],\n",
       "       [ -486.13338552],\n",
       "       [ -507.04157188],\n",
       "       [ -499.14244701],\n",
       "       [ -540.57771296],\n",
       "       [ -491.61443824],\n",
       "       [ -490.98451913],\n",
       "       [ -510.3599912 ],\n",
       "       [ -526.27669228],\n",
       "       [ -544.70353074],\n",
       "       [ -522.20160638],\n",
       "       [ -559.6339293 ],\n",
       "       [ -537.51855602],\n",
       "       [ -542.58290046],\n",
       "       [ -542.1605766 ],\n",
       "       [ -573.2215391 ],\n",
       "       [ -537.17829219],\n",
       "       [ -544.90845626],\n",
       "       [ -555.67780835],\n",
       "       [ -514.41495999],\n",
       "       [ -561.32199444],\n",
       "       [ -591.29852465],\n",
       "       [ -548.28172648],\n",
       "       [ -542.6839165 ],\n",
       "       [ -587.48286903],\n",
       "       [ -615.00408549],\n",
       "       [ -608.37131485],\n",
       "       [ -609.96764854],\n",
       "       [ -588.71368641],\n",
       "       [ -635.27925557],\n",
       "       [ -596.97813819],\n",
       "       [ -624.49005707],\n",
       "       [ -607.91660416],\n",
       "       [ -607.78880208],\n",
       "       [ -608.67968207],\n",
       "       [ -613.04685882],\n",
       "       [ -613.42622871],\n",
       "       [ -627.9647226 ],\n",
       "       [ -629.41419121],\n",
       "       [ -659.4953567 ],\n",
       "       [ -641.71147218],\n",
       "       [ -642.4184579 ],\n",
       "       [ -622.46216168],\n",
       "       [ -629.29632704],\n",
       "       [ -630.84903975],\n",
       "       [ -649.96207429],\n",
       "       [ -628.33439033],\n",
       "       [ -624.26306464],\n",
       "       [ -672.66641835],\n",
       "       [ -625.99942365],\n",
       "       [ -668.32133606],\n",
       "       [ -644.08447447],\n",
       "       [ -670.33449354],\n",
       "       [ -650.42162287],\n",
       "       [ -659.00575765],\n",
       "       [ -652.72283308],\n",
       "       [ -663.66874302],\n",
       "       [ -712.07380606],\n",
       "       [ -678.29810214],\n",
       "       [ -677.51237093],\n",
       "       [ -697.42726574],\n",
       "       [ -679.83952355],\n",
       "       [ -685.17652596],\n",
       "       [ -687.3966785 ],\n",
       "       [ -695.07869405],\n",
       "       [ -668.96769442],\n",
       "       [ -729.20631591],\n",
       "       [ -759.42078542],\n",
       "       [ -738.60323385],\n",
       "       [ -709.25947862],\n",
       "       [ -734.10909392],\n",
       "       [ -710.70466297],\n",
       "       [ -714.60548318],\n",
       "       [ -716.8846134 ],\n",
       "       [ -734.79543543],\n",
       "       [ -739.91595072],\n",
       "       [ -733.94713667],\n",
       "       [ -745.43208091],\n",
       "       [ -772.82120639],\n",
       "       [ -761.55255032],\n",
       "       [ -768.38653642],\n",
       "       [ -792.40489344],\n",
       "       [ -734.49803952],\n",
       "       [ -739.85861744],\n",
       "       [ -733.38832068],\n",
       "       [ -736.61158211],\n",
       "       [ -782.79002099],\n",
       "       [ -785.29395679],\n",
       "       [ -767.78437142],\n",
       "       [ -763.75527214],\n",
       "       [ -770.94760778],\n",
       "       [ -788.64069561],\n",
       "       [ -776.92909798],\n",
       "       [ -787.89927852],\n",
       "       [ -781.16094003],\n",
       "       [ -769.52348666],\n",
       "       [ -794.60837516],\n",
       "       [ -809.37309344],\n",
       "       [ -817.64260824],\n",
       "       [ -795.9808554 ],\n",
       "       [ -810.00711601],\n",
       "       [ -786.22826235],\n",
       "       [ -815.45322895],\n",
       "       [ -775.24135622],\n",
       "       [ -829.65478368],\n",
       "       [ -818.18198019],\n",
       "       [ -824.95213136],\n",
       "       [ -808.50444072],\n",
       "       [ -842.19509208],\n",
       "       [ -840.89298863],\n",
       "       [ -829.60247679],\n",
       "       [ -831.19909686],\n",
       "       [ -849.7474468 ],\n",
       "       [ -859.41228355],\n",
       "       [ -880.25279221],\n",
       "       [ -832.45962568],\n",
       "       [ -842.04875255],\n",
       "       [ -854.92859349],\n",
       "       [ -863.05479684],\n",
       "       [ -880.46973399],\n",
       "       [ -845.98983046],\n",
       "       [ -864.08392825],\n",
       "       [ -916.17147213],\n",
       "       [ -882.50041576],\n",
       "       [ -900.55496627],\n",
       "       [ -865.23855594],\n",
       "       [ -868.73502873],\n",
       "       [ -901.89257444],\n",
       "       [ -894.13279884],\n",
       "       [ -894.70840945],\n",
       "       [ -874.03301091],\n",
       "       [ -919.57958171],\n",
       "       [ -885.22630202],\n",
       "       [ -886.77273918],\n",
       "       [ -892.86668231],\n",
       "       [ -897.31894222],\n",
       "       [ -896.80292654],\n",
       "       [ -935.6509703 ],\n",
       "       [ -917.84278402],\n",
       "       [ -938.14822609],\n",
       "       [ -922.72350855],\n",
       "       [ -925.96649242],\n",
       "       [ -931.02129998],\n",
       "       [ -930.07044255],\n",
       "       [ -959.91255505],\n",
       "       [ -935.36700993],\n",
       "       [ -964.37938883],\n",
       "       [ -928.07411245],\n",
       "       [ -945.30695176],\n",
       "       [ -970.5352783 ],\n",
       "       [ -961.0019475 ],\n",
       "       [ -954.16221287],\n",
       "       [ -998.50187991],\n",
       "       [ -966.81663718],\n",
       "       [ -979.88394136],\n",
       "       [ -973.11230276],\n",
       "       [ -987.06725601],\n",
       "       [ -984.58896456],\n",
       "       [ -969.7338398 ],\n",
       "       [ -980.99119179],\n",
       "       [ -972.52407006],\n",
       "       [ -972.21624783],\n",
       "       [-1018.58868855]])"
      ]
     },
     "execution_count": 37,
     "metadata": {},
     "output_type": "execute_result"
    }
   ],
   "source": [
    "y_true + (np.random.normal(0, 1, n_data) * 20).reshape(-1, 1)"
   ]
  },
  {
   "cell_type": "code",
   "execution_count": 38,
   "id": "6d598488",
   "metadata": {},
   "outputs": [
    {
     "name": "stdout",
     "output_type": "stream",
     "text": [
      "[[-363.17562341]\n",
      " [-352.70707581]\n",
      " [-434.09366388]\n",
      " [-397.19680148]]\n"
     ]
    }
   ],
   "source": [
    "#   add random normal noise\n",
    "sigma = 20\n",
    "y_actual = y_true + (np.random.normal(0, 1, n_data) * sigma).reshape(-1, 1)\n",
    "print(y_actual[0:4, :])"
   ]
  },
  {
   "cell_type": "markdown",
   "id": "e7361d82",
   "metadata": {},
   "source": [
    "The matrix equation for the estimated linear parameters is as below:\n",
    "$${\\hat {\\beta }}=(X^{T}X)^{-1}X^{T}y.$$"
   ]
  },
  {
   "cell_type": "code",
   "execution_count": 40,
   "id": "1ab39988",
   "metadata": {},
   "outputs": [],
   "source": [
    "# estimations\n",
    "beta_estimated = np.linalg.inv(X.T @ X) @ X.T @ y_actual"
   ]
  },
  {
   "cell_type": "code",
   "execution_count": 41,
   "id": "59cf5bfb",
   "metadata": {},
   "outputs": [
    {
     "name": "stderr",
     "output_type": "stream",
     "text": [
      "C:\\Users\\GUSTAVO\\AppData\\Local\\Temp\\ipykernel_18052\\3055057328.py:4: UserWarning: color is redundantly defined by the 'color' keyword argument and the fmt string \"g-\" (-> color='g'). The keyword argument will take precedence.\n",
      "  plt.plot(x1, y_true, 'g-', c = 'black')\n"
     ]
    },
    {
     "data": {
      "text/plain": [
       "[<matplotlib.lines.Line2D at 0x1bfb3bee280>]"
      ]
     },
     "execution_count": 41,
     "metadata": {},
     "output_type": "execute_result"
    },
    {
     "data": {
      "image/png": "[encoded data removed]",
      "text/plain": [
       "<Figure size 640x480 with 1 Axes>"
      ]
     },
     "metadata": {},
     "output_type": "display_data"
    }
   ],
   "source": [
    "import matplotlib.pyplot as plt\n",
    "\n",
    "plt.plot(x1, y_actual, 'o')\n",
    "plt.plot(x1, y_true, 'g-', c = 'black')"
   ]
  },
  {
   "cell_type": "markdown",
   "id": "b90df233",
   "metadata": {},
   "source": [
    "Calculate the sum of squared residual errors\n",
    "$$\n",
    "RSS=y^{T}y-y^{T}X(X^{T}X)^{{-1}}X^{T}y\n",
    "$$"
   ]
  },
  {
   "cell_type": "code",
   "execution_count": 44,
   "id": "9db449d3",
   "metadata": {},
   "outputs": [
    {
     "data": {
      "text/plain": [
       "array([[ -363.17562341],\n",
       "       [ -352.70707581],\n",
       "       [ -434.09366388],\n",
       "       [ -397.19680148],\n",
       "       [ -420.78331582],\n",
       "       [ -397.94154111],\n",
       "       [ -404.68547756],\n",
       "       [ -461.25967547],\n",
       "       [ -443.50935249],\n",
       "       [ -389.70767085],\n",
       "       [ -433.52781912],\n",
       "       [ -440.86489181],\n",
       "       [ -438.84388975],\n",
       "       [ -433.35953597],\n",
       "       [ -423.02967992],\n",
       "       [ -462.4342141 ],\n",
       "       [ -411.00347808],\n",
       "       [ -449.30684372],\n",
       "       [ -439.67289368],\n",
       "       [ -483.79323538],\n",
       "       [ -475.76223955],\n",
       "       [ -451.11697593],\n",
       "       [ -502.29714733],\n",
       "       [ -471.28944442],\n",
       "       [ -469.42547682],\n",
       "       [ -446.5312852 ],\n",
       "       [ -491.80601456],\n",
       "       [ -490.19739082],\n",
       "       [ -479.04456384],\n",
       "       [ -474.00541273],\n",
       "       [ -466.81118162],\n",
       "       [ -465.87036519],\n",
       "       [ -481.78056886],\n",
       "       [ -486.82521579],\n",
       "       [ -498.29745627],\n",
       "       [ -494.5463688 ],\n",
       "       [ -496.12610043],\n",
       "       [ -477.28192028],\n",
       "       [ -528.50908099],\n",
       "       [ -500.32253178],\n",
       "       [ -534.8069165 ],\n",
       "       [ -519.83419859],\n",
       "       [ -529.98895428],\n",
       "       [ -542.46766897],\n",
       "       [ -556.57705931],\n",
       "       [ -530.83304253],\n",
       "       [ -537.19594858],\n",
       "       [ -545.18383047],\n",
       "       [ -533.27459593],\n",
       "       [ -575.3845836 ],\n",
       "       [ -583.62422933],\n",
       "       [ -568.2261289 ],\n",
       "       [ -524.18943902],\n",
       "       [ -589.00978747],\n",
       "       [ -548.00015612],\n",
       "       [ -515.80325096],\n",
       "       [ -549.16691169],\n",
       "       [ -610.83605853],\n",
       "       [ -542.88412932],\n",
       "       [ -582.52424117],\n",
       "       [ -572.51691068],\n",
       "       [ -564.04776808],\n",
       "       [ -601.09290746],\n",
       "       [ -580.14165291],\n",
       "       [ -562.43981243],\n",
       "       [ -580.47813055],\n",
       "       [ -607.12369225],\n",
       "       [ -609.50991323],\n",
       "       [ -588.55565945],\n",
       "       [ -598.81710628],\n",
       "       [ -613.35544241],\n",
       "       [ -577.26420378],\n",
       "       [ -618.81182298],\n",
       "       [ -649.56164547],\n",
       "       [ -589.87577924],\n",
       "       [ -632.01325439],\n",
       "       [ -631.98188164],\n",
       "       [ -595.83280128],\n",
       "       [ -631.66504662],\n",
       "       [ -615.22226206],\n",
       "       [ -594.11696893],\n",
       "       [ -653.55089341],\n",
       "       [ -675.79818609],\n",
       "       [ -662.62818168],\n",
       "       [ -622.01727507],\n",
       "       [ -626.64118611],\n",
       "       [ -653.12944596],\n",
       "       [ -633.17539545],\n",
       "       [ -641.99790613],\n",
       "       [ -675.49328763],\n",
       "       [ -665.4720436 ],\n",
       "       [ -674.617291  ],\n",
       "       [ -657.56115398],\n",
       "       [ -681.6537382 ],\n",
       "       [ -712.61460235],\n",
       "       [ -681.75397523],\n",
       "       [ -697.68040023],\n",
       "       [ -700.85600064],\n",
       "       [ -682.71433242],\n",
       "       [ -703.59950157],\n",
       "       [ -687.69296354],\n",
       "       [ -706.23055991],\n",
       "       [ -692.83892341],\n",
       "       [ -705.10348722],\n",
       "       [ -721.53456821],\n",
       "       [ -718.88021083],\n",
       "       [ -723.09873548],\n",
       "       [ -742.75632555],\n",
       "       [ -769.29958801],\n",
       "       [ -722.13445689],\n",
       "       [ -727.70227583],\n",
       "       [ -711.78753595],\n",
       "       [ -713.04908763],\n",
       "       [ -744.11706108],\n",
       "       [ -734.07466566],\n",
       "       [ -742.36794113],\n",
       "       [ -777.55527795],\n",
       "       [ -726.79916289],\n",
       "       [ -741.15124543],\n",
       "       [ -733.39524974],\n",
       "       [ -770.27200653],\n",
       "       [ -799.57849949],\n",
       "       [ -740.59997144],\n",
       "       [ -741.93487379],\n",
       "       [ -791.14299361],\n",
       "       [ -764.55057463],\n",
       "       [ -772.85552352],\n",
       "       [ -787.29222005],\n",
       "       [ -782.76314522],\n",
       "       [ -788.08515459],\n",
       "       [ -798.37217301],\n",
       "       [ -803.83824057],\n",
       "       [ -779.24006323],\n",
       "       [ -770.94110141],\n",
       "       [ -773.17917016],\n",
       "       [ -782.99958949],\n",
       "       [ -794.99100062],\n",
       "       [ -824.81104904],\n",
       "       [ -854.29737353],\n",
       "       [ -840.75957967],\n",
       "       [ -792.95338063],\n",
       "       [ -816.42538462],\n",
       "       [ -810.98640118],\n",
       "       [ -814.87634361],\n",
       "       [ -836.22803211],\n",
       "       [ -839.86983993],\n",
       "       [ -805.65284433],\n",
       "       [ -819.409016  ],\n",
       "       [ -881.23769581],\n",
       "       [ -836.43592727],\n",
       "       [ -851.31137346],\n",
       "       [ -841.35175001],\n",
       "       [ -879.01844359],\n",
       "       [ -857.67703468],\n",
       "       [ -860.08067082],\n",
       "       [ -847.98175319],\n",
       "       [ -867.303602  ],\n",
       "       [ -896.14752413],\n",
       "       [ -885.78524006],\n",
       "       [ -851.92394517],\n",
       "       [ -854.34838374],\n",
       "       [ -894.22470157],\n",
       "       [ -898.81756304],\n",
       "       [ -891.35443683],\n",
       "       [ -925.89948105],\n",
       "       [ -875.37287402],\n",
       "       [ -886.88110975],\n",
       "       [ -913.1128989 ],\n",
       "       [ -912.68877179],\n",
       "       [ -867.4019226 ],\n",
       "       [ -896.5460349 ],\n",
       "       [ -897.13466015],\n",
       "       [ -921.51818527],\n",
       "       [ -887.55981835],\n",
       "       [ -932.41596938],\n",
       "       [ -926.093974  ],\n",
       "       [ -940.34284858],\n",
       "       [ -940.75937819],\n",
       "       [ -930.17928248],\n",
       "       [ -945.81705987],\n",
       "       [ -942.10184515],\n",
       "       [ -938.90898037],\n",
       "       [ -915.51423684],\n",
       "       [ -965.76836638],\n",
       "       [ -939.04191798],\n",
       "       [ -961.20811505],\n",
       "       [ -960.97669283],\n",
       "       [ -981.8308283 ],\n",
       "       [ -940.85367883],\n",
       "       [ -948.82813141],\n",
       "       [ -975.92523761],\n",
       "       [ -981.15653378],\n",
       "       [ -984.21378585],\n",
       "       [ -953.50906293],\n",
       "       [ -982.27982358],\n",
       "       [ -992.40275618],\n",
       "       [ -971.86089399],\n",
       "       [-1000.638346  ],\n",
       "       [-1001.00740541],\n",
       "       [-1009.79201997]])"
      ]
     },
     "execution_count": 44,
     "metadata": {},
     "output_type": "execute_result"
    }
   ],
   "source": [
    "y_actual"
   ]
  },
  {
   "cell_type": "code",
   "execution_count": 45,
   "id": "a3cdec76",
   "metadata": {},
   "outputs": [],
   "source": [
    "RSS = ( y_actual.T @ y_actual - y_actual.T @ X @ np.linalg.inv(X.T @ X) @ X.T @ y_actual )"
   ]
  },
  {
   "cell_type": "markdown",
   "id": "4b5aa1fe",
   "metadata": {},
   "source": [
    "Calculated the Total Sum of Squares of the spread of the actual (noisy) values around their mean\n",
    "$$\n",
    "TSS=(y-{\\bar  y})^{T}(y-{\\bar  y})=y^{T}y-2y^{T}{\\bar  y}+{\\bar  y}^{T}{\\bar  y}\n",
    "$$"
   ]
  },
  {
   "cell_type": "code",
   "execution_count": 47,
   "id": "dd7943da",
   "metadata": {},
   "outputs": [
    {
     "data": {
      "text/plain": [
       "array([[6139916.87053796]])"
      ]
     },
     "execution_count": 47,
     "metadata": {},
     "output_type": "execute_result"
    }
   ],
   "source": [
    "y_mean = ( np.ones(n_data) * np.mean(y_actual) ).reshape( -1 , 1 )\n",
    "TSS = (y_actual - y_mean).T @ (y_actual - y_mean)\n",
    "TSS"
   ]
  },
  {
   "cell_type": "code",
   "execution_count": 48,
   "id": "d01d0dcf",
   "metadata": {},
   "outputs": [],
   "source": [
    "# get predictions\n",
    "y_pred = X @ beta_estimated"
   ]
  },
  {
   "cell_type": "markdown",
   "id": "39b378b4",
   "metadata": {},
   "source": [
    "Calculate the Sum of Squares of the spread of the predictions around their mean.\n",
    "$$\n",
    "ESS=({\\hat  y}-{\\bar  y})^{T}({\\hat  y}-{\\bar  y})={\\hat  y}^{T}{\\hat  y}-2{\\hat  y}^{T}{\\bar  y}+{\\bar  y}^{T}{\\bar  y}\n",
    "$$"
   ]
  },
  {
   "cell_type": "code",
   "execution_count": 49,
   "id": "4fb7e7a6",
   "metadata": {},
   "outputs": [
    {
     "data": {
      "text/plain": [
       "array([[6065239.45328459]])"
      ]
     },
     "execution_count": 49,
     "metadata": {},
     "output_type": "execute_result"
    }
   ],
   "source": [
    "ESS = (y_pred - y_mean).T @ (y_pred - y_mean)\n",
    "\n",
    "ESS"
   ]
  },
  {
   "cell_type": "code",
   "execution_count": 50,
   "id": "2f62ca60",
   "metadata": {},
   "outputs": [
    {
     "data": {
      "text/plain": [
       "(array([[6139916.87053796]]), array([[6139916.87053773]]))"
      ]
     },
     "execution_count": 50,
     "metadata": {},
     "output_type": "execute_result"
    }
   ],
   "source": [
    "TSS, ESS + RSS"
   ]
  },
  {
   "cell_type": "markdown",
   "id": "1f8743be",
   "metadata": {},
   "source": [
    "Get $R^2$\n",
    "$$\n",
    "1 - RSS / TSS\n",
    "$$"
   ]
  },
  {
   "cell_type": "code",
   "execution_count": 51,
   "id": "bab212d5",
   "metadata": {},
   "outputs": [
    {
     "data": {
      "text/plain": [
       "array([[0.98783739]])"
      ]
     },
     "execution_count": 51,
     "metadata": {},
     "output_type": "execute_result"
    }
   ],
   "source": [
    "1 - RSS / TSS"
   ]
  },
  {
   "cell_type": "markdown",
   "id": "828ea721",
   "metadata": {},
   "source": [
    "###  Standard error of regression\n",
    "Calculate the standard error of the regression. We divide by `(n-2)`, because the Expectation of the sum of squares is `(n-2)*sigma^2`."
   ]
  },
  {
   "cell_type": "code",
   "execution_count": 53,
   "id": "8dd8d168",
   "metadata": {},
   "outputs": [
    {
     "data": {
      "text/plain": [
       "array([[19.42057345]])"
      ]
     },
     "execution_count": 53,
     "metadata": {},
     "output_type": "execute_result"
    }
   ],
   "source": [
    "sr2 = ( (1 / (n_data - 2)) * (y_pred - y_actual).T  @ (y_pred - y_actual))\n",
    "sr = np.sqrt(sr2)\n",
    "sr"
   ]
  },
  {
   "cell_type": "markdown",
   "id": "dc83241a",
   "metadata": {},
   "source": [
    "### Get variance and covariance Matrix\n",
    "In order to get the standard errors for our linear parameters, we use the matrix formula below:\n",
    "$$\n",
    "Var(β^)=σ^2(X′X)^{-1}\n",
    "$$"
   ]
  },
  {
   "cell_type": "code",
   "execution_count": 54,
   "id": "005067ca",
   "metadata": {},
   "outputs": [
    {
     "data": {
      "text/plain": [
       "array([[ 3.23806045e+01, -8.71280318e-02],\n",
       "       [-8.71280318e-02,  2.48937234e-04]])"
      ]
     },
     "execution_count": 54,
     "metadata": {},
     "output_type": "execute_result"
    }
   ],
   "source": [
    "var_beta = sr2 * np.linalg.inv(X.T @ X)\n",
    "var_beta"
   ]
  },
  {
   "cell_type": "code",
   "execution_count": 55,
   "id": "39e71deb",
   "metadata": {},
   "outputs": [
    {
     "name": "stdout",
     "output_type": "stream",
     "text": [
      "Std Error for b0 5.690395810428917, \n",
      "Std Error for b1 0.015777744882797255\n"
     ]
    }
   ],
   "source": [
    "print(\n",
    "    f'Std Error for b0 {np.sqrt(var_beta[0, 0])}, \\nStd Error for b1 {np.sqrt(var_beta[1, 1])}'\n",
    ")"
   ]
  },
  {
   "cell_type": "code",
   "execution_count": 56,
   "id": "fddad747",
   "metadata": {},
   "outputs": [
    {
     "data": {
      "text/plain": [
       "'C:\\\\Users\\\\GUSTAVO\\\\Documents\\\\GitHub\\\\python_files'"
      ]
     },
     "execution_count": 56,
     "metadata": {},
     "output_type": "execute_result"
    }
   ],
   "source": [
    "pwd"
   ]
  },
  {
   "cell_type": "code",
   "execution_count": null,
   "id": "7eedc556",
   "metadata": {},
   "outputs": [],
   "source": []
  }
 ],
 "metadata": {
  "kernelspec": {
   "display_name": "Python 3 (ipykernel)",
   "language": "python",
   "name": "python3"
  },
  "language_info": {
   "codemirror_mode": {
    "name": "ipython",
    "version": 3
   },
   "file_extension": ".py",
   "mimetype": "text/x-python",
   "name": "python",
   "nbconvert_exporter": "python",
   "pygments_lexer": "ipython3",
   "version": "3.9.13"
  }
 },
 "nbformat": 4,
 "nbformat_minor": 5
}
