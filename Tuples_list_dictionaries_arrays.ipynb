{
 "cells": [
  {
   "cell_type": "markdown",
   "id": "33b0b4c8",
   "metadata": {},
   "source": [
    "# Introduction to Python: Tuples, Lists, Dictionaries, Arrays"
   ]
  },
  {
   "cell_type": "markdown",
   "id": "d64ff155",
   "metadata": {},
   "source": [
    "## Variables"
   ]
  },
  {
   "cell_type": "markdown",
   "id": "5496e6b1",
   "metadata": {},
   "source": [
    " Containers for store data values. This variable has a label or name. This variable is an object in memory."
   ]
  },
  {
   "cell_type": "markdown",
   "id": "ca010a68",
   "metadata": {},
   "source": [
    "## Python Types"
   ]
  },
  {
   "cell_type": "markdown",
   "id": "a66529e3",
   "metadata": {},
   "source": [
    "There are three key python types: int, float, string and boolean."
   ]
  },
  {
   "cell_type": "markdown",
   "id": "d3abddfd",
   "metadata": {},
   "source": [
    "Integer"
   ]
  },
  {
   "cell_type": "code",
   "execution_count": 3,
   "id": "d3932d01",
   "metadata": {},
   "outputs": [
    {
     "data": {
      "text/plain": [
       "int"
      ]
     },
     "execution_count": 3,
     "metadata": {},
     "output_type": "execute_result"
    }
   ],
   "source": [
    "a = 50\n",
    "type (a)"
   ]
  },
  {
   "cell_type": "markdown",
   "id": "53bc3dc8",
   "metadata": {},
   "source": [
    "Float"
   ]
  },
  {
   "cell_type": "code",
   "execution_count": 4,
   "id": "42aea720",
   "metadata": {},
   "outputs": [
    {
     "data": {
      "text/plain": [
       "float"
      ]
     },
     "execution_count": 4,
     "metadata": {},
     "output_type": "execute_result"
    }
   ],
   "source": [
    "b = 30.3\n",
    "type (b)"
   ]
  },
  {
   "cell_type": "markdown",
   "id": "7b4c9617",
   "metadata": {},
   "source": [
    "String"
   ]
  },
  {
   "cell_type": "code",
   "execution_count": 5,
   "id": "cfd09304",
   "metadata": {},
   "outputs": [
    {
     "data": {
      "text/plain": [
       "str"
      ]
     },
     "execution_count": 5,
     "metadata": {},
     "output_type": "execute_result"
    }
   ],
   "source": [
    "c = \"30\"\n",
    "type (c)"
   ]
  },
  {
   "cell_type": "markdown",
   "id": "7cd08d77",
   "metadata": {},
   "source": [
    "Boolean"
   ]
  },
  {
   "cell_type": "code",
   "execution_count": 6,
   "id": "93494d58",
   "metadata": {},
   "outputs": [
    {
     "data": {
      "text/plain": [
       "bool"
      ]
     },
     "execution_count": 6,
     "metadata": {},
     "output_type": "execute_result"
    }
   ],
   "source": [
    "d = False\n",
    "type (d)"
   ]
  },
  {
   "cell_type": "markdown",
   "id": "83b48960",
   "metadata": {},
   "source": [
    "## <a href=\"https://www.w3schools.com/python/python_ref_string.asp\">String</a> "
   ]
  },
  {
   "cell_type": "markdown",
   "id": "2b87b2d2",
   "metadata": {},
   "source": [
    "A string is a sequence of characters"
   ]
  },
  {
   "cell_type": "code",
   "execution_count": 7,
   "id": "12c46d76",
   "metadata": {},
   "outputs": [
    {
     "name": "stdout",
     "output_type": "stream",
     "text": [
      "hello15%\n"
     ]
    }
   ],
   "source": [
    "my_string = 'hello15%'\n",
    "print(my_string)"
   ]
  },
  {
   "cell_type": "code",
   "execution_count": 12,
   "id": "4ee1404d",
   "metadata": {},
   "outputs": [
    {
     "name": "stdout",
     "output_type": "stream",
     "text": [
      "Gustavo \n",
      "\n"
     ]
    }
   ],
   "source": [
    "name = \"Gustavo\"\n",
    "print (name,\"\\n\")"
   ]
  },
  {
   "cell_type": "code",
   "execution_count": 13,
   "id": "43700475",
   "metadata": {},
   "outputs": [
    {
     "name": "stdout",
     "output_type": "stream",
     "text": [
      " Hello, welcome to \n",
      "                the world of Python \n"
     ]
    }
   ],
   "source": [
    "# triple quotes string can extend multiple lines\n",
    "my_string = \"\"\" Hello, welcome to \n",
    "                the world of Python \"\"\"\n",
    "print(my_string)"
   ]
  },
  {
   "cell_type": "code",
   "execution_count": 14,
   "id": "d65f1fc8",
   "metadata": {},
   "outputs": [
    {
     "data": {
      "text/plain": [
       "56"
      ]
     },
     "execution_count": 14,
     "metadata": {},
     "output_type": "execute_result"
    }
   ],
   "source": [
    "len(my_string)"
   ]
  },
  {
   "cell_type": "code",
   "execution_count": 15,
   "id": "41e356d9",
   "metadata": {},
   "outputs": [
    {
     "name": "stdout",
     "output_type": "stream",
     "text": [
      "The name of the course is python\n"
     ]
    }
   ],
   "source": [
    "str_1 = \"The name\"\n",
    "str_2 = \"of the course\"\n",
    "str_3 = \"is python\"\n",
    "print(str_1, str_2, str_3)"
   ]
  },
  {
   "cell_type": "code",
   "execution_count": 16,
   "id": "9445f970",
   "metadata": {},
   "outputs": [
    {
     "data": {
      "text/plain": [
       "'The nameof the courseis python'"
      ]
     },
     "execution_count": 16,
     "metadata": {},
     "output_type": "execute_result"
    }
   ],
   "source": [
    "course_name = str_1 + str_2 + str_3\n",
    "course_name"
   ]
  },
  {
   "cell_type": "code",
   "execution_count": 22,
   "id": "22871ce4",
   "metadata": {},
   "outputs": [
    {
     "name": "stdout",
     "output_type": "stream",
     "text": [
      "str[0] =  I\n"
     ]
    }
   ],
   "source": [
    "#first character print\n",
    "str = 'Introduction to Python'\n",
    "print('str[0] = ', str[0])"
   ]
  },
  {
   "cell_type": "code",
   "execution_count": 23,
   "id": "ab0f7fdd",
   "metadata": {},
   "outputs": [
    {
     "data": {
      "text/plain": [
       "'o'"
      ]
     },
     "execution_count": 23,
     "metadata": {},
     "output_type": "execute_result"
    }
   ],
   "source": [
    "#2nd character from the end\n",
    "str[-2]"
   ]
  },
  {
   "cell_type": "code",
   "execution_count": 24,
   "id": "ab1298bb",
   "metadata": {},
   "outputs": [
    {
     "data": {
      "text/plain": [
       "'P'"
      ]
     },
     "execution_count": 24,
     "metadata": {},
     "output_type": "execute_result"
    }
   ],
   "source": [
    "#6th character from the end\n",
    "str[-6]"
   ]
  },
  {
   "cell_type": "code",
   "execution_count": 25,
   "id": "96857e93",
   "metadata": {},
   "outputs": [
    {
     "name": "stdout",
     "output_type": "stream",
     "text": [
      "ntro\n"
     ]
    }
   ],
   "source": [
    "#slicing 2nd to 5th character\n",
    "str = 'Introduction to Python'\n",
    "print(str[1:5])"
   ]
  },
  {
   "cell_type": "markdown",
   "id": "f5bd2c0a",
   "metadata": {},
   "source": [
    "## <a href=\"https://www.w3schools.com/python/python_booleans.asp\">Bool</a> "
   ]
  },
  {
   "cell_type": "markdown",
   "id": "47426d27",
   "metadata": {},
   "source": [
    "The Python Boolean type is one of Python’s built-in data types. It’s used to represent the truth value of an expression. For example, the expression 1 <= 2 is True, while the expression 0 == 1 is False."
   ]
  },
  {
   "cell_type": "code",
   "execution_count": 26,
   "id": "b9fc7df0",
   "metadata": {},
   "outputs": [
    {
     "name": "stdout",
     "output_type": "stream",
     "text": [
      "True\n"
     ]
    }
   ],
   "source": [
    "response = print(10 > 9)\n",
    "response"
   ]
  },
  {
   "cell_type": "code",
   "execution_count": 27,
   "id": "b4e0f6e3",
   "metadata": {},
   "outputs": [
    {
     "name": "stdout",
     "output_type": "stream",
     "text": [
      "False\n"
     ]
    }
   ],
   "source": [
    "print(10 == 9)"
   ]
  },
  {
   "cell_type": "code",
   "execution_count": 30,
   "id": "d88809cf",
   "metadata": {},
   "outputs": [
    {
     "data": {
      "text/plain": [
       "1.0"
      ]
     },
     "execution_count": 30,
     "metadata": {},
     "output_type": "execute_result"
    }
   ],
   "source": [
    "True + (False / True)"
   ]
  },
  {
   "cell_type": "markdown",
   "id": "57b65a2f",
   "metadata": {},
   "source": [
    "## <a href=\"https://www.datacamp.com/tutorial/python-tuples-tutorial\">Tuples</a> "
   ]
  },
  {
   "cell_type": "markdown",
   "id": "0a5b86f0",
   "metadata": {},
   "source": [
    "It is an ordered and unchangeable Python container. We cannot change, add or remove items after the tuple has been created. Tuple items are ordered, unchangeable, and allow duplicate values."
   ]
  },
  {
   "cell_type": "code",
   "execution_count": 32,
   "id": "794c52ff",
   "metadata": {},
   "outputs": [
    {
     "data": {
      "text/plain": [
       "(1, 2, 5, 9, 10, 10)"
      ]
     },
     "execution_count": 32,
     "metadata": {},
     "output_type": "execute_result"
    }
   ],
   "source": [
    "tuple1 = (1, 2, 5, 9, 10, 10)\n",
    "tuple1"
   ]
  },
  {
   "cell_type": "code",
   "execution_count": 33,
   "id": "0e55e441",
   "metadata": {},
   "outputs": [
    {
     "data": {
      "text/plain": [
       "9"
      ]
     },
     "execution_count": 33,
     "metadata": {},
     "output_type": "execute_result"
    }
   ],
   "source": [
    "tuple1[3]"
   ]
  },
  {
   "cell_type": "code",
   "execution_count": 34,
   "id": "5df0c7d2",
   "metadata": {},
   "outputs": [
    {
     "ename": "TypeError",
     "evalue": "'tuple' object does not support item assignment",
     "output_type": "error",
     "traceback": [
      "\u001b[1;31m---------------------------------------------------------------------------\u001b[0m",
      "\u001b[1;31mTypeError\u001b[0m                                 Traceback (most recent call last)",
      "\u001b[1;32m~\\AppData\\Local\\Temp\\ipykernel_18420\\1468706600.py\u001b[0m in \u001b[0;36m<module>\u001b[1;34m\u001b[0m\n\u001b[0;32m      1\u001b[0m \u001b[1;31m# I want to change the value in the index 1\u001b[0m\u001b[1;33m\u001b[0m\u001b[1;33m\u001b[0m\u001b[0m\n\u001b[1;32m----> 2\u001b[1;33m \u001b[0mtuple1\u001b[0m\u001b[1;33m[\u001b[0m\u001b[1;36m1\u001b[0m\u001b[1;33m]\u001b[0m \u001b[1;33m=\u001b[0m \u001b[1;36m4\u001b[0m\u001b[1;33m\u001b[0m\u001b[1;33m\u001b[0m\u001b[0m\n\u001b[0m\u001b[0;32m      3\u001b[0m \u001b[1;31m# It is not possible\u001b[0m\u001b[1;33m\u001b[0m\u001b[1;33m\u001b[0m\u001b[0m\n\u001b[0;32m      4\u001b[0m \u001b[1;31m# to change values\u001b[0m\u001b[1;33m\u001b[0m\u001b[1;33m\u001b[0m\u001b[0m\n",
      "\u001b[1;31mTypeError\u001b[0m: 'tuple' object does not support item assignment"
     ]
    }
   ],
   "source": [
    "# I want to change the value in the index 1\n",
    "tuple1[1] = 4\n",
    "# It is not possible\n",
    "# to change values"
   ]
  },
  {
   "cell_type": "code",
   "execution_count": 36,
   "id": "b16a95b7",
   "metadata": {},
   "outputs": [
    {
     "data": {
      "text/plain": [
       "2"
      ]
     },
     "execution_count": 36,
     "metadata": {},
     "output_type": "execute_result"
    }
   ],
   "source": [
    "# Count the items with number 10\n",
    "tuple1.count(10)"
   ]
  },
  {
   "cell_type": "code",
   "execution_count": 39,
   "id": "4c05f2e0",
   "metadata": {},
   "outputs": [
    {
     "name": "stdout",
     "output_type": "stream",
     "text": [
      "(1, 2, 5, 9, 10, 10)\n"
     ]
    },
    {
     "data": {
      "text/plain": [
       "4"
      ]
     },
     "execution_count": 39,
     "metadata": {},
     "output_type": "execute_result"
    }
   ],
   "source": [
    "# index\n",
    "print( tuple1 )\n",
    "tuple1.index( 10 )"
   ]
  },
  {
   "cell_type": "code",
   "execution_count": 40,
   "id": "29301535",
   "metadata": {},
   "outputs": [
    {
     "data": {
      "text/plain": [
       "10"
      ]
     },
     "execution_count": 40,
     "metadata": {},
     "output_type": "execute_result"
    }
   ],
   "source": [
    "max(tuple1)"
   ]
  },
  {
   "cell_type": "code",
   "execution_count": 41,
   "id": "b1b77ff0",
   "metadata": {},
   "outputs": [
    {
     "data": {
      "text/plain": [
       "('Gustavo', 5, True)"
      ]
     },
     "execution_count": 41,
     "metadata": {},
     "output_type": "execute_result"
    }
   ],
   "source": [
    "tuple1 = (\"Gustavo\", 5, True)\n",
    "tuple1"
   ]
  },
  {
   "cell_type": "code",
   "execution_count": 42,
   "id": "116c470f",
   "metadata": {},
   "outputs": [
    {
     "data": {
      "text/plain": [
       "7"
      ]
     },
     "execution_count": 42,
     "metadata": {},
     "output_type": "execute_result"
    }
   ],
   "source": [
    "len(tuple1[0])"
   ]
  },
  {
   "cell_type": "markdown",
   "id": "8c5c8fd8",
   "metadata": {},
   "source": [
    "## <a href=\"https://www.freecodecamp.org/news/lists-in-python-comprehensive-guide/\">List</a> "
   ]
  },
  {
   "cell_type": "markdown",
   "id": "225628b0",
   "metadata": {},
   "source": [
    "It is an ordered and mutable Python container. Its itmes are orderd, changeable, and allow duplicate values and different type of objects. Finally, every item has index because lists have a defined order."
   ]
  },
  {
   "cell_type": "code",
   "execution_count": 44,
   "id": "bbb48505",
   "metadata": {},
   "outputs": [
    {
     "data": {
      "text/plain": [
       "[18, 1.36, 'Gustavo', False]"
      ]
     },
     "execution_count": 44,
     "metadata": {},
     "output_type": "execute_result"
    }
   ],
   "source": [
    "# We use brackets to create a list\n",
    "a = [18, 1.36, \"Gustavo\", False]\n",
    "a "
   ]
  },
  {
   "cell_type": "code",
   "execution_count": 45,
   "id": "97f647e3",
   "metadata": {},
   "outputs": [
    {
     "name": "stdout",
     "output_type": "stream",
     "text": [
      "<class 'list'>\n"
     ]
    }
   ],
   "source": [
    "print( type( a ) )"
   ]
  },
  {
   "cell_type": "code",
   "execution_count": 49,
   "id": "d57cff69",
   "metadata": {},
   "outputs": [
    {
     "data": {
      "text/plain": [
       "'Gustavo'"
      ]
     },
     "execution_count": 49,
     "metadata": {},
     "output_type": "execute_result"
    }
   ],
   "source": [
    "a[-2]"
   ]
  },
  {
   "cell_type": "code",
   "execution_count": 50,
   "id": "5c70820d",
   "metadata": {},
   "outputs": [
    {
     "name": "stdout",
     "output_type": "stream",
     "text": [
      "Gustavo\n"
     ]
    }
   ],
   "source": [
    "print(  a[-2] )"
   ]
  },
  {
   "cell_type": "code",
   "execution_count": 51,
   "id": "cfa52022",
   "metadata": {},
   "outputs": [
    {
     "data": {
      "text/plain": [
       "[3, 13, 2, 56, 76, 16]"
      ]
     },
     "execution_count": 51,
     "metadata": {},
     "output_type": "execute_result"
    }
   ],
   "source": [
    "b = [ 3, 13, 2, 56, 76, 16]\n",
    "b"
   ]
  },
  {
   "cell_type": "code",
   "execution_count": 57,
   "id": "6c9bcf7d",
   "metadata": {},
   "outputs": [
    {
     "data": {
      "text/plain": [
       "[3, 13, 2, 56, 76, 16]"
      ]
     },
     "execution_count": 57,
     "metadata": {},
     "output_type": "execute_result"
    }
   ],
   "source": [
    "b_sort = b.copy()\n",
    "b_sort"
   ]
  },
  {
   "cell_type": "code",
   "execution_count": 58,
   "id": "a7f86891",
   "metadata": {},
   "outputs": [
    {
     "data": {
      "text/plain": [
       "[2, 3, 13, 16, 56, 76]"
      ]
     },
     "execution_count": 58,
     "metadata": {},
     "output_type": "execute_result"
    }
   ],
   "source": [
    "b_sort.sort()\n",
    "b_sort"
   ]
  },
  {
   "cell_type": "code",
   "execution_count": 59,
   "id": "d2161356",
   "metadata": {},
   "outputs": [
    {
     "data": {
      "text/plain": [
       "[15, 20, 16, 5, 8]"
      ]
     },
     "execution_count": 59,
     "metadata": {},
     "output_type": "execute_result"
    }
   ],
   "source": [
    "grades= [15, 20, 16, 5, 8 ]\n",
    "grades"
   ]
  },
  {
   "cell_type": "code",
   "execution_count": 64,
   "id": "b59465bc",
   "metadata": {},
   "outputs": [
    {
     "data": {
      "text/plain": [
       "[5, 8, 15, 16, 20]"
      ]
     },
     "execution_count": 64,
     "metadata": {},
     "output_type": "execute_result"
    }
   ],
   "source": [
    "grades.sort()\n",
    "grades"
   ]
  },
  {
   "cell_type": "code",
   "execution_count": 65,
   "id": "2e8edd5b",
   "metadata": {},
   "outputs": [
    {
     "data": {
      "text/plain": [
       "[5, 8, 15, 16, 20, 18]"
      ]
     },
     "execution_count": 65,
     "metadata": {},
     "output_type": "execute_result"
    }
   ],
   "source": [
    "grades.append( 18 )\n",
    "grades"
   ]
  },
  {
   "cell_type": "code",
   "execution_count": 66,
   "id": "3985aa24",
   "metadata": {},
   "outputs": [],
   "source": [
    "grades2= [13, 12, 17]"
   ]
  },
  {
   "cell_type": "code",
   "execution_count": 67,
   "id": "e0697f89",
   "metadata": {},
   "outputs": [],
   "source": [
    "grades.extend( grades2 )"
   ]
  },
  {
   "cell_type": "code",
   "execution_count": 68,
   "id": "5a24ec43",
   "metadata": {},
   "outputs": [
    {
     "data": {
      "text/plain": [
       "[5, 8, 15, 16, 20, 18, 13, 12, 17]"
      ]
     },
     "execution_count": 68,
     "metadata": {},
     "output_type": "execute_result"
    }
   ],
   "source": [
    "grades"
   ]
  },
  {
   "cell_type": "code",
   "execution_count": 69,
   "id": "5ca2553a",
   "metadata": {},
   "outputs": [
    {
     "name": "stdout",
     "output_type": "stream",
     "text": [
      "20\n"
     ]
    }
   ],
   "source": [
    "print( max( grades ) )"
   ]
  },
  {
   "cell_type": "code",
   "execution_count": 70,
   "id": "a7f2873e",
   "metadata": {},
   "outputs": [
    {
     "name": "stdout",
     "output_type": "stream",
     "text": [
      "5\n"
     ]
    }
   ],
   "source": [
    "print( min( grades ) )"
   ]
  },
  {
   "cell_type": "code",
   "execution_count": 71,
   "id": "7b68b128",
   "metadata": {},
   "outputs": [
    {
     "name": "stdout",
     "output_type": "stream",
     "text": [
      "9\n"
     ]
    }
   ],
   "source": [
    "# length of a list\n",
    "print( len( grades ) )"
   ]
  },
  {
   "cell_type": "markdown",
   "id": "9c24a907",
   "metadata": {},
   "source": [
    "## <a href=\"https://realpython.com/python-dicts/\">Dictionaries</a> "
   ]
  },
  {
   "cell_type": "markdown",
   "id": "4f7a93f6",
   "metadata": {},
   "source": [
    "It is a ordered (Python >= 3.7) and mutable Python container. It does not allow duplicate key. They must be unique.\n",
    "\n",
    "| Method | Definition | | --- | --- | |clear()| Removes all the elements from the dictionary| |copy() | Returns a copy of the dictionary| |fromkeys() | Returns a dictionary with the specified keys and value| |get() | Returns the value of the specified key| |items() | Returns a list containing a tuple for each key value pair| |keys() | Returns a list containing the dictionary's keys| |pop() | Removes the element with the specified key| |popitem() | Removes the last inserted key-value pair| |setdefault() | Returns the value of the specified key.\n",
    "If the key does not exist: insert the key, with the specified value| |update() | Updates the dictionary with the specified key-value pairs | |values() | Returns a list of all the values in the dictionary|"
   ]
  },
  {
   "cell_type": "code",
   "execution_count": 73,
   "id": "1c4f8677",
   "metadata": {},
   "outputs": [
    {
     "data": {
      "text/plain": [
       "{'lastname': 'Meza,', 'age': 26, 'birth_place': 'Huancayo', 'male': True}"
      ]
     },
     "execution_count": 73,
     "metadata": {},
     "output_type": "execute_result"
    }
   ],
   "source": [
    "Gustavo = { 'lastname': \"Meza,\", 'age': 26, 'birth_place': \"Huancayo\", 'male' : True}\n",
    "Gustavo"
   ]
  },
  {
   "cell_type": "code",
   "execution_count": 74,
   "id": "43d1b567",
   "metadata": {},
   "outputs": [],
   "source": [
    "lastname = [\"Meza\", \"Rojas\", \"Torres\"]\n",
    "ages = [26, 24, 35]"
   ]
  },
  {
   "cell_type": "code",
   "execution_count": 76,
   "id": "709f3c22",
   "metadata": {},
   "outputs": [
    {
     "data": {
      "text/plain": [
       "['Quispe', 'Rojas', 'Torres']"
      ]
     },
     "execution_count": 76,
     "metadata": {},
     "output_type": "execute_result"
    }
   ],
   "source": [
    "list_1 = { \"lastname\" : [\"Quispe\", \"Rojas\", \"Torres\"],\n",
    "          \"ages\":[26, 24, 35], \"birth_place\": \"Huancayo\", 'male' : True}\n",
    "list_1[\"lastname\"]"
   ]
  },
  {
   "cell_type": "code",
   "execution_count": 77,
   "id": "c8625da5",
   "metadata": {},
   "outputs": [
    {
     "data": {
      "text/plain": [
       "True"
      ]
     },
     "execution_count": 77,
     "metadata": {},
     "output_type": "execute_result"
    }
   ],
   "source": [
    "Gustavo[\"male\"]"
   ]
  },
  {
   "cell_type": "code",
   "execution_count": 78,
   "id": "a8387701",
   "metadata": {},
   "outputs": [],
   "source": [
    "# dictionary containing the population of the 5 largest german cities\n",
    "population = {'Berlin': 3748148, 'Hamburg': 1822445, 'Munich': 1471508, 'Cologne': 1085664, 'Frankfurt': 753056 }"
   ]
  },
  {
   "cell_type": "code",
   "execution_count": 79,
   "id": "aeffa88d",
   "metadata": {},
   "outputs": [
    {
     "name": "stdout",
     "output_type": "stream",
     "text": [
      "{'Berlin': 3748148, 'Hamburg': 1822445, 'Munich': 1471508, 'Cologne': 1085664, 'Frankfurt': 753056}\n"
     ]
    },
    {
     "data": {
      "text/plain": [
       "dict"
      ]
     },
     "execution_count": 79,
     "metadata": {},
     "output_type": "execute_result"
    }
   ],
   "source": [
    "# clear\n",
    "print( population )\n",
    "type( population )"
   ]
  },
  {
   "cell_type": "code",
   "execution_count": 80,
   "id": "6a757ecb",
   "metadata": {},
   "outputs": [],
   "source": [
    "population.clear()"
   ]
  },
  {
   "cell_type": "code",
   "execution_count": 81,
   "id": "502e3f48",
   "metadata": {},
   "outputs": [
    {
     "data": {
      "text/plain": [
       "{}"
      ]
     },
     "execution_count": 81,
     "metadata": {},
     "output_type": "execute_result"
    }
   ],
   "source": [
    "population"
   ]
  },
  {
   "cell_type": "code",
   "execution_count": 83,
   "id": "d5db6e12",
   "metadata": {},
   "outputs": [],
   "source": [
    "population = {'Berlin': 3748148, 'Hamburg': 1822445, \n",
    "              'Munich': 1471508, 'Cologne': 1085664, \n",
    "              'Frankfurt': 753056 }"
   ]
  },
  {
   "cell_type": "code",
   "execution_count": 84,
   "id": "5764f6bd",
   "metadata": {},
   "outputs": [
    {
     "data": {
      "text/plain": [
       "{'Berlin': 3748148,\n",
       " 'Hamburg': 1822445,\n",
       " 'Munich': 1471508,\n",
       " 'Cologne': 1085664,\n",
       " 'Frankfurt': 753056}"
      ]
     },
     "execution_count": 84,
     "metadata": {},
     "output_type": "execute_result"
    }
   ],
   "source": [
    "pop_2 = population.copy()\n",
    "pop_2"
   ]
  },
  {
   "cell_type": "code",
   "execution_count": 85,
   "id": "2e7722c2",
   "metadata": {},
   "outputs": [
    {
     "data": {
      "text/plain": [
       "3748148"
      ]
     },
     "execution_count": 85,
     "metadata": {},
     "output_type": "execute_result"
    }
   ],
   "source": [
    "population[\"Berlin\"]"
   ]
  },
  {
   "cell_type": "code",
   "execution_count": 86,
   "id": "140768a7",
   "metadata": {},
   "outputs": [
    {
     "data": {
      "text/plain": [
       "1471508"
      ]
     },
     "execution_count": 86,
     "metadata": {},
     "output_type": "execute_result"
    }
   ],
   "source": [
    "# Get information from key\n",
    "population.get('Munich')"
   ]
  },
  {
   "cell_type": "code",
   "execution_count": 87,
   "id": "9d8dd17f",
   "metadata": {},
   "outputs": [
    {
     "data": {
      "text/plain": [
       "dict_items([('Berlin', 3748148), ('Hamburg', 1822445), ('Munich', 1471508), ('Cologne', 1085664), ('Frankfurt', 753056)])"
      ]
     },
     "execution_count": 87,
     "metadata": {},
     "output_type": "execute_result"
    }
   ],
   "source": [
    "# Get information from key\n",
    "population.items()"
   ]
  },
  {
   "cell_type": "code",
   "execution_count": 88,
   "id": "635a66d8",
   "metadata": {},
   "outputs": [
    {
     "data": {
      "text/plain": [
       "dict_keys(['Berlin', 'Hamburg', 'Munich', 'Cologne', 'Frankfurt'])"
      ]
     },
     "execution_count": 88,
     "metadata": {},
     "output_type": "execute_result"
    }
   ],
   "source": [
    "population.keys()"
   ]
  },
  {
   "cell_type": "code",
   "execution_count": 89,
   "id": "63047a30",
   "metadata": {},
   "outputs": [],
   "source": [
    "stadiums = { \"munich\":\"Alianz Arena\",\"dormundt\": \"SIP\", \"ulm\": \"VFLULM\", \"shalke\": \"GAZPROM\"}"
   ]
  },
  {
   "cell_type": "code",
   "execution_count": 90,
   "id": "eb2e3466",
   "metadata": {},
   "outputs": [],
   "source": [
    "population.update( {\"stadiums\": stadiums} )"
   ]
  },
  {
   "cell_type": "code",
   "execution_count": 91,
   "id": "3cf14d09",
   "metadata": {},
   "outputs": [
    {
     "data": {
      "text/plain": [
       "{'Berlin': 3748148,\n",
       " 'Hamburg': 1822445,\n",
       " 'Munich': 1471508,\n",
       " 'Cologne': 1085664,\n",
       " 'Frankfurt': 753056,\n",
       " 'stadiums': {'munich': 'Alianz Arena',\n",
       "  'dormundt': 'SIP',\n",
       "  'ulm': 'VFLULM',\n",
       "  'shalke': 'GAZPROM'}}"
      ]
     },
     "execution_count": 91,
     "metadata": {},
     "output_type": "execute_result"
    }
   ],
   "source": [
    "population"
   ]
  },
  {
   "cell_type": "code",
   "execution_count": 92,
   "id": "169e5bd2",
   "metadata": {},
   "outputs": [
    {
     "name": "stdout",
     "output_type": "stream",
     "text": [
      "{'Berlin': 3748148, 'Hamburg': 1822445, 'Munich': 1471508, 'Cologne': 1085664, 'Frankfurt': 753056, 'stadiums': {'munich': 'Alianz Arena', 'dormundt': 'SIP', 'ulm': 'VFLULM', 'shalke': 'GAZPROM'}}\n",
      "{'Berlin': 3748148, 'Munich': 1471508, 'Cologne': 1085664, 'Frankfurt': 753056, 'stadiums': {'munich': 'Alianz Arena', 'dormundt': 'SIP', 'ulm': 'VFLULM', 'shalke': 'GAZPROM'}}\n"
     ]
    }
   ],
   "source": [
    "# Drop a key\n",
    "print( population )\n",
    "population.pop( 'Hamburg' )\n",
    "print( population )"
   ]
  },
  {
   "cell_type": "code",
   "execution_count": 93,
   "id": "818f7f4d",
   "metadata": {},
   "outputs": [
    {
     "name": "stdout",
     "output_type": "stream",
     "text": [
      "{'Berlin': 3748148, 'Munich': 1471508, 'Cologne': 1085664, 'Frankfurt': 753056}\n"
     ]
    }
   ],
   "source": [
    "# Drop an item\n",
    "population.popitem( )\n",
    "print( population )"
   ]
  },
  {
   "cell_type": "code",
   "execution_count": 94,
   "id": "f01da755",
   "metadata": {},
   "outputs": [
    {
     "data": {
      "text/plain": [
       "{'Berlin': 3748148,\n",
       " 'Munich': 1471508,\n",
       " 'Cologne': 1085664,\n",
       " 'Frankfurt': 753056,\n",
       " 'Bonn': 327258,\n",
       " 'Ulm': 100000}"
      ]
     },
     "execution_count": 94,
     "metadata": {},
     "output_type": "execute_result"
    }
   ],
   "source": [
    "population.update( { \"Bonn\" :  327258 } )\n",
    "population.update( { \"Ulm\" : 100000  } )\n",
    "population"
   ]
  },
  {
   "cell_type": "code",
   "execution_count": 95,
   "id": "f2748ee6",
   "metadata": {},
   "outputs": [
    {
     "name": "stdout",
     "output_type": "stream",
     "text": [
      "{'Berlin': 3748148, 'Munich': 1471508, 'Cologne': 1085664, 'Frankfurt': 753056, 'Bonn': 327258, 'Ulm': 100000}\n",
      "{'Berlin': 3748148, 'Munich': 1471508, 'Cologne': 1085664, 'Frankfurt': 753056, 'Bonn': {'population': 100, 'km2': 500, 'president': 'Muller'}, 'Ulm': 100000}\n"
     ]
    }
   ],
   "source": [
    "# Add new items\n",
    "print( population )\n",
    "population.update( { \"Bonn\" :  {\"population\":100 , \"km2\" : 500, \"president\" : \"Muller\"} } )\n",
    "print( population )"
   ]
  },
  {
   "cell_type": "code",
   "execution_count": 96,
   "id": "85f106ea",
   "metadata": {},
   "outputs": [
    {
     "data": {
      "text/plain": [
       "dict_keys(['Berlin', 'Munich', 'Cologne', 'Frankfurt', 'Bonn', 'Ulm'])"
      ]
     },
     "execution_count": 96,
     "metadata": {},
     "output_type": "execute_result"
    }
   ],
   "source": [
    "population.keys()"
   ]
  },
  {
   "cell_type": "code",
   "execution_count": 98,
   "id": "520848b4",
   "metadata": {},
   "outputs": [
    {
     "data": {
      "text/plain": [
       "dict_values([3748148, 1471508, 1085664, 753056, {'population': 100, 'km2': 500, 'president': 'Muller'}, 100000])"
      ]
     },
     "execution_count": 98,
     "metadata": {},
     "output_type": "execute_result"
    }
   ],
   "source": [
    "# Get all values from all keys\n",
    "population.values()"
   ]
  },
  {
   "cell_type": "markdown",
   "id": "7819c236",
   "metadata": {},
   "source": [
    "## From lists to dictionaries"
   ]
  },
  {
   "cell_type": "code",
   "execution_count": 99,
   "id": "8ca88520",
   "metadata": {},
   "outputs": [],
   "source": [
    "# keys\n",
    "cities = ['Fray Martin','Santa Rosa de Puquio','Cuchicorral','Santiago de Punchauca',\n",
    "          'La Cruz (11 Amigos)','Cerro Cañon','Cabaña Suche','San Lorenzo',\n",
    "          'Jose Carlos Mariategui','Pascal','La Esperanza','Fundo Pancha Paula','Olfa',\n",
    "          'Rio Seco','Paraiso','El Rosario','Cerro Puquio','La Campana','Las Animas',\n",
    "          'Vetancio','Roma Alta','San Jose','San Pedro de Carabayllo','Huacoy',\n",
    "          'Fundo Pampa Libre','Ex Fundo Santa Ines','Reposo','Carmelito','Santa Elena','Don Luis','Santa Ines Parcela','Asociacion Santa Ines','Roma Baja','Residencial Santa Lucia','San Francisco','Santa Margarita - Molinos','Sipan Peru','Fundo Cuadros','Bello Horizonte','El Hueco','Ex Fundo Mariategui','Naranjito','Vista Hermosa','El Sabroso de Jose Carlos Mariategui','Granja Carabayllo','Agropecuario Valle el Chillon','Camino Real','Copacabana','El Trebol','Tablada la Virgen','San Fernando de Carabayllo','San Fernando de Copacabana','La Manzana','Chacra Grande','Torres de Copacabana','San Pedro de Carabayllo','San Lorenzo','Chaclacayo','Chorrillos','Cieneguilla','Lindero','Pichicato','San Isidro','San Vicente','Piedra Liza','Santa Rosa de Chontay (Chontay)','La Libertad','El Agustino','Independencia','Jesus Maria','La Molina','La Victoria','Lince','Las Palmeras','Chosica','Lurin','Los Almacigos','Rinconada del Puruhuay','Fundo Santa Genoveva','Los Maderos','Casco Viejo','Vista Alegre','Buena Vista Alta','Lomas Pucara','Fundo la Querencia','Magdalena del Mar','Pueblo Libre','Miraflores','Pachacamac','Puente Manchay','Tambo Inga','Pampa Flores','Manchay Alto Lote B','Invasion Cementerio','Manchay Bajo','Santa Rosa de Mal Paso','Cardal','Jatosisa','Tomina','Pucusana','Honda','Quipa','Los Pelicanos','Playa Puerto Bello','Ñaves','Granja Santa Elena','Alvatroz II','Poseidon - Lobo Varado','Playa Minka Mar','Playa Acantilado','Puente Piedra','Punta Hermosa','Capilla Lucumo','Cucuya','Pampapacta','Avicola San Cirilo de Loma Negra - 03','Avicola San Cirilo de Loma Negra - 02','Avicola San Cirilo de Loma Negra - 01','Pampa Mamay','Cerro Botija','Agricultores y Ganaderos','Pampa Malanche Avicola Puma','Punta Negra','Chancheria','Rimac','San Bartolo','Plantel 41','Granja 4','Granja 5','Granja 07','Granja 44','Granja 47','Santa Maria I','Las Torres Santa Fe','San Francisco de Borja','San Isidro','San Juan de Lurigancho','Ciudad de Dios','San Luis','Barrio Obrero Industrial','San Miguel','Santa Anita - los Ficus','Santa Maria del Mar','Don Bruno','Santa Rosa','Santiago de Surco','Surquillo','Villa el Salvador','Villa Maria del Triunfo', 'Pueblo libre']\n",
    "# values\n",
    "postal_code = [15001,15003,15004,15006,15018,15019,15046,15072,15079,15081,15082,15083,15088,15123,15004,15011,15012,15019,15022,15023,15026,15476,15479,15483,15487,15491,15494,15498,15047,15049,15063,15082,15083,15121,15122,15313,15316,15318,15319,15320,15321,15324,15320,15320,15320,15320,15320,15320,15121,15320,15320,15121,15320,15320,15121,15121,15122,15122,15121,15121,15121,15320,15320,15320,15320,15320,15320,15121,15121,15121,15320,15121,15319,15121,15121,15121,15320,15320,15121,15121,15121,15121,15320,15320,15320,15122,15122,15122,15122,15122,15122,15122,15122,15121,15121,15122,15122,15121,15121,15122,15122,15121,15122,15122,15122,15472,15476,15054,15056,15057,15058,15063,15064,15066,15067,15593,15594,15593,15593,15593,15593,15593,15593,15593,15311,15312,15313,15314,15316,15324,15326,15327,15328,15332,15003,15004,15006,15007,15008,15009,15011,15018,15022,15311,15328,15331,15332,15333,15046, 15001]"
   ]
  },
  {
   "cell_type": "code",
   "execution_count": 100,
   "id": "bcd1e244",
   "metadata": {},
   "outputs": [
    {
     "data": {
      "text/plain": [
       "150"
      ]
     },
     "execution_count": 100,
     "metadata": {},
     "output_type": "execute_result"
    }
   ],
   "source": [
    "len(cities)\n",
    "len(postal_code)"
   ]
  },
  {
   "cell_type": "code",
   "execution_count": 104,
   "id": "cfc72d0b",
   "metadata": {},
   "outputs": [
    {
     "data": {
      "text/plain": [
       "list"
      ]
     },
     "execution_count": 104,
     "metadata": {},
     "output_type": "execute_result"
    }
   ],
   "source": [
    "type (cities)\n",
    "type (postal_code)"
   ]
  },
  {
   "cell_type": "code",
   "execution_count": 106,
   "id": "7bedb878",
   "metadata": {},
   "outputs": [
    {
     "data": {
      "text/plain": [
       "[('Fray Martin', 15001),\n",
       " ('Santa Rosa de Puquio', 15003),\n",
       " ('Cuchicorral', 15004),\n",
       " ('Santiago de Punchauca', 15006),\n",
       " ('La Cruz (11 Amigos)', 15018),\n",
       " ('Cerro Cañon', 15019),\n",
       " ('Cabaña Suche', 15046),\n",
       " ('San Lorenzo', 15072),\n",
       " ('Jose Carlos Mariategui', 15079),\n",
       " ('Pascal', 15081),\n",
       " ('La Esperanza', 15082),\n",
       " ('Fundo Pancha Paula', 15083),\n",
       " ('Olfa', 15088),\n",
       " ('Rio Seco', 15123),\n",
       " ('Paraiso', 15004),\n",
       " ('El Rosario', 15011),\n",
       " ('Cerro Puquio', 15012),\n",
       " ('La Campana', 15019),\n",
       " ('Las Animas', 15022),\n",
       " ('Vetancio', 15023),\n",
       " ('Roma Alta', 15026),\n",
       " ('San Jose', 15476),\n",
       " ('San Pedro de Carabayllo', 15479),\n",
       " ('Huacoy', 15483),\n",
       " ('Fundo Pampa Libre', 15487),\n",
       " ('Ex Fundo Santa Ines', 15491),\n",
       " ('Reposo', 15494),\n",
       " ('Carmelito', 15498),\n",
       " ('Santa Elena', 15047),\n",
       " ('Don Luis', 15049),\n",
       " ('Santa Ines Parcela', 15063),\n",
       " ('Asociacion Santa Ines', 15082),\n",
       " ('Roma Baja', 15083),\n",
       " ('Residencial Santa Lucia', 15121),\n",
       " ('San Francisco', 15122),\n",
       " ('Santa Margarita - Molinos', 15313),\n",
       " ('Sipan Peru', 15316),\n",
       " ('Fundo Cuadros', 15318),\n",
       " ('Bello Horizonte', 15319),\n",
       " ('El Hueco', 15320),\n",
       " ('Ex Fundo Mariategui', 15321),\n",
       " ('Naranjito', 15324),\n",
       " ('Vista Hermosa', 15320),\n",
       " ('El Sabroso de Jose Carlos Mariategui', 15320),\n",
       " ('Granja Carabayllo', 15320),\n",
       " ('Agropecuario Valle el Chillon', 15320),\n",
       " ('Camino Real', 15320),\n",
       " ('Copacabana', 15320),\n",
       " ('El Trebol', 15121),\n",
       " ('Tablada la Virgen', 15320),\n",
       " ('San Fernando de Carabayllo', 15320),\n",
       " ('San Fernando de Copacabana', 15121),\n",
       " ('La Manzana', 15320),\n",
       " ('Chacra Grande', 15320),\n",
       " ('Torres de Copacabana', 15121),\n",
       " ('San Pedro de Carabayllo', 15121),\n",
       " ('San Lorenzo', 15122),\n",
       " ('Chaclacayo', 15122),\n",
       " ('Chorrillos', 15121),\n",
       " ('Cieneguilla', 15121),\n",
       " ('Lindero', 15121),\n",
       " ('Pichicato', 15320),\n",
       " ('San Isidro', 15320),\n",
       " ('San Vicente', 15320),\n",
       " ('Piedra Liza', 15320),\n",
       " ('Santa Rosa de Chontay (Chontay)', 15320),\n",
       " ('La Libertad', 15320),\n",
       " ('El Agustino', 15121),\n",
       " ('Independencia', 15121),\n",
       " ('Jesus Maria', 15121),\n",
       " ('La Molina', 15320),\n",
       " ('La Victoria', 15121),\n",
       " ('Lince', 15319),\n",
       " ('Las Palmeras', 15121),\n",
       " ('Chosica', 15121),\n",
       " ('Lurin', 15121),\n",
       " ('Los Almacigos', 15320),\n",
       " ('Rinconada del Puruhuay', 15320),\n",
       " ('Fundo Santa Genoveva', 15121),\n",
       " ('Los Maderos', 15121),\n",
       " ('Casco Viejo', 15121),\n",
       " ('Vista Alegre', 15121),\n",
       " ('Buena Vista Alta', 15320),\n",
       " ('Lomas Pucara', 15320),\n",
       " ('Fundo la Querencia', 15320),\n",
       " ('Magdalena del Mar', 15122),\n",
       " ('Pueblo Libre', 15122),\n",
       " ('Miraflores', 15122),\n",
       " ('Pachacamac', 15122),\n",
       " ('Puente Manchay', 15122),\n",
       " ('Tambo Inga', 15122),\n",
       " ('Pampa Flores', 15122),\n",
       " ('Manchay Alto Lote B', 15122),\n",
       " ('Invasion Cementerio', 15121),\n",
       " ('Manchay Bajo', 15121),\n",
       " ('Santa Rosa de Mal Paso', 15122),\n",
       " ('Cardal', 15122),\n",
       " ('Jatosisa', 15121),\n",
       " ('Tomina', 15121),\n",
       " ('Pucusana', 15122),\n",
       " ('Honda', 15122),\n",
       " ('Quipa', 15121),\n",
       " ('Los Pelicanos', 15122),\n",
       " ('Playa Puerto Bello', 15122),\n",
       " ('Ñaves', 15122),\n",
       " ('Granja Santa Elena', 15472),\n",
       " ('Alvatroz II', 15476),\n",
       " ('Poseidon - Lobo Varado', 15054),\n",
       " ('Playa Minka Mar', 15056),\n",
       " ('Playa Acantilado', 15057),\n",
       " ('Puente Piedra', 15058),\n",
       " ('Punta Hermosa', 15063),\n",
       " ('Capilla Lucumo', 15064),\n",
       " ('Cucuya', 15066),\n",
       " ('Pampapacta', 15067),\n",
       " ('Avicola San Cirilo de Loma Negra - 03', 15593),\n",
       " ('Avicola San Cirilo de Loma Negra - 02', 15594),\n",
       " ('Avicola San Cirilo de Loma Negra - 01', 15593),\n",
       " ('Pampa Mamay', 15593),\n",
       " ('Cerro Botija', 15593),\n",
       " ('Agricultores y Ganaderos', 15593),\n",
       " ('Pampa Malanche Avicola Puma', 15593),\n",
       " ('Punta Negra', 15593),\n",
       " ('Chancheria', 15593),\n",
       " ('Rimac', 15311),\n",
       " ('San Bartolo', 15312),\n",
       " ('Plantel 41', 15313),\n",
       " ('Granja 4', 15314),\n",
       " ('Granja 5', 15316),\n",
       " ('Granja 07', 15324),\n",
       " ('Granja 44', 15326),\n",
       " ('Granja 47', 15327),\n",
       " ('Santa Maria I', 15328),\n",
       " ('Las Torres Santa Fe', 15332),\n",
       " ('San Francisco de Borja', 15003),\n",
       " ('San Isidro', 15004),\n",
       " ('San Juan de Lurigancho', 15006),\n",
       " ('Ciudad de Dios', 15007),\n",
       " ('San Luis', 15008),\n",
       " ('Barrio Obrero Industrial', 15009),\n",
       " ('San Miguel', 15011),\n",
       " ('Santa Anita - los Ficus', 15018),\n",
       " ('Santa Maria del Mar', 15022),\n",
       " ('Don Bruno', 15311),\n",
       " ('Santa Rosa', 15328),\n",
       " ('Santiago de Surco', 15331),\n",
       " ('Surquillo', 15332),\n",
       " ('Villa el Salvador', 15333),\n",
       " ('Villa Maria del Triunfo', 15046),\n",
       " ('Pueblo libre', 15001)]"
      ]
     },
     "execution_count": 106,
     "metadata": {},
     "output_type": "execute_result"
    }
   ],
   "source": [
    "list(zip( cities , postal_code ))"
   ]
  },
  {
   "cell_type": "code",
   "execution_count": 108,
   "id": "1b57daaa",
   "metadata": {},
   "outputs": [],
   "source": [
    "# Return a dictionarie\n",
    "ct_pc = dict( zip( cities , postal_code ) )"
   ]
  },
  {
   "cell_type": "code",
   "execution_count": 109,
   "id": "1583f0e0",
   "metadata": {},
   "outputs": [
    {
     "data": {
      "text/plain": [
       "{'Fray Martin': 15001,\n",
       " 'Santa Rosa de Puquio': 15003,\n",
       " 'Cuchicorral': 15004,\n",
       " 'Santiago de Punchauca': 15006,\n",
       " 'La Cruz (11 Amigos)': 15018,\n",
       " 'Cerro Cañon': 15019,\n",
       " 'Cabaña Suche': 15046,\n",
       " 'San Lorenzo': 15122,\n",
       " 'Jose Carlos Mariategui': 15079,\n",
       " 'Pascal': 15081,\n",
       " 'La Esperanza': 15082,\n",
       " 'Fundo Pancha Paula': 15083,\n",
       " 'Olfa': 15088,\n",
       " 'Rio Seco': 15123,\n",
       " 'Paraiso': 15004,\n",
       " 'El Rosario': 15011,\n",
       " 'Cerro Puquio': 15012,\n",
       " 'La Campana': 15019,\n",
       " 'Las Animas': 15022,\n",
       " 'Vetancio': 15023,\n",
       " 'Roma Alta': 15026,\n",
       " 'San Jose': 15476,\n",
       " 'San Pedro de Carabayllo': 15121,\n",
       " 'Huacoy': 15483,\n",
       " 'Fundo Pampa Libre': 15487,\n",
       " 'Ex Fundo Santa Ines': 15491,\n",
       " 'Reposo': 15494,\n",
       " 'Carmelito': 15498,\n",
       " 'Santa Elena': 15047,\n",
       " 'Don Luis': 15049,\n",
       " 'Santa Ines Parcela': 15063,\n",
       " 'Asociacion Santa Ines': 15082,\n",
       " 'Roma Baja': 15083,\n",
       " 'Residencial Santa Lucia': 15121,\n",
       " 'San Francisco': 15122,\n",
       " 'Santa Margarita - Molinos': 15313,\n",
       " 'Sipan Peru': 15316,\n",
       " 'Fundo Cuadros': 15318,\n",
       " 'Bello Horizonte': 15319,\n",
       " 'El Hueco': 15320,\n",
       " 'Ex Fundo Mariategui': 15321,\n",
       " 'Naranjito': 15324,\n",
       " 'Vista Hermosa': 15320,\n",
       " 'El Sabroso de Jose Carlos Mariategui': 15320,\n",
       " 'Granja Carabayllo': 15320,\n",
       " 'Agropecuario Valle el Chillon': 15320,\n",
       " 'Camino Real': 15320,\n",
       " 'Copacabana': 15320,\n",
       " 'El Trebol': 15121,\n",
       " 'Tablada la Virgen': 15320,\n",
       " 'San Fernando de Carabayllo': 15320,\n",
       " 'San Fernando de Copacabana': 15121,\n",
       " 'La Manzana': 15320,\n",
       " 'Chacra Grande': 15320,\n",
       " 'Torres de Copacabana': 15121,\n",
       " 'Chaclacayo': 15122,\n",
       " 'Chorrillos': 15121,\n",
       " 'Cieneguilla': 15121,\n",
       " 'Lindero': 15121,\n",
       " 'Pichicato': 15320,\n",
       " 'San Isidro': 15004,\n",
       " 'San Vicente': 15320,\n",
       " 'Piedra Liza': 15320,\n",
       " 'Santa Rosa de Chontay (Chontay)': 15320,\n",
       " 'La Libertad': 15320,\n",
       " 'El Agustino': 15121,\n",
       " 'Independencia': 15121,\n",
       " 'Jesus Maria': 15121,\n",
       " 'La Molina': 15320,\n",
       " 'La Victoria': 15121,\n",
       " 'Lince': 15319,\n",
       " 'Las Palmeras': 15121,\n",
       " 'Chosica': 15121,\n",
       " 'Lurin': 15121,\n",
       " 'Los Almacigos': 15320,\n",
       " 'Rinconada del Puruhuay': 15320,\n",
       " 'Fundo Santa Genoveva': 15121,\n",
       " 'Los Maderos': 15121,\n",
       " 'Casco Viejo': 15121,\n",
       " 'Vista Alegre': 15121,\n",
       " 'Buena Vista Alta': 15320,\n",
       " 'Lomas Pucara': 15320,\n",
       " 'Fundo la Querencia': 15320,\n",
       " 'Magdalena del Mar': 15122,\n",
       " 'Pueblo Libre': 15122,\n",
       " 'Miraflores': 15122,\n",
       " 'Pachacamac': 15122,\n",
       " 'Puente Manchay': 15122,\n",
       " 'Tambo Inga': 15122,\n",
       " 'Pampa Flores': 15122,\n",
       " 'Manchay Alto Lote B': 15122,\n",
       " 'Invasion Cementerio': 15121,\n",
       " 'Manchay Bajo': 15121,\n",
       " 'Santa Rosa de Mal Paso': 15122,\n",
       " 'Cardal': 15122,\n",
       " 'Jatosisa': 15121,\n",
       " 'Tomina': 15121,\n",
       " 'Pucusana': 15122,\n",
       " 'Honda': 15122,\n",
       " 'Quipa': 15121,\n",
       " 'Los Pelicanos': 15122,\n",
       " 'Playa Puerto Bello': 15122,\n",
       " 'Ñaves': 15122,\n",
       " 'Granja Santa Elena': 15472,\n",
       " 'Alvatroz II': 15476,\n",
       " 'Poseidon - Lobo Varado': 15054,\n",
       " 'Playa Minka Mar': 15056,\n",
       " 'Playa Acantilado': 15057,\n",
       " 'Puente Piedra': 15058,\n",
       " 'Punta Hermosa': 15063,\n",
       " 'Capilla Lucumo': 15064,\n",
       " 'Cucuya': 15066,\n",
       " 'Pampapacta': 15067,\n",
       " 'Avicola San Cirilo de Loma Negra - 03': 15593,\n",
       " 'Avicola San Cirilo de Loma Negra - 02': 15594,\n",
       " 'Avicola San Cirilo de Loma Negra - 01': 15593,\n",
       " 'Pampa Mamay': 15593,\n",
       " 'Cerro Botija': 15593,\n",
       " 'Agricultores y Ganaderos': 15593,\n",
       " 'Pampa Malanche Avicola Puma': 15593,\n",
       " 'Punta Negra': 15593,\n",
       " 'Chancheria': 15593,\n",
       " 'Rimac': 15311,\n",
       " 'San Bartolo': 15312,\n",
       " 'Plantel 41': 15313,\n",
       " 'Granja 4': 15314,\n",
       " 'Granja 5': 15316,\n",
       " 'Granja 07': 15324,\n",
       " 'Granja 44': 15326,\n",
       " 'Granja 47': 15327,\n",
       " 'Santa Maria I': 15328,\n",
       " 'Las Torres Santa Fe': 15332,\n",
       " 'San Francisco de Borja': 15003,\n",
       " 'San Juan de Lurigancho': 15006,\n",
       " 'Ciudad de Dios': 15007,\n",
       " 'San Luis': 15008,\n",
       " 'Barrio Obrero Industrial': 15009,\n",
       " 'San Miguel': 15011,\n",
       " 'Santa Anita - los Ficus': 15018,\n",
       " 'Santa Maria del Mar': 15022,\n",
       " 'Don Bruno': 15311,\n",
       " 'Santa Rosa': 15328,\n",
       " 'Santiago de Surco': 15331,\n",
       " 'Surquillo': 15332,\n",
       " 'Villa el Salvador': 15333,\n",
       " 'Villa Maria del Triunfo': 15046,\n",
       " 'Pueblo libre': 15001}"
      ]
     },
     "execution_count": 109,
     "metadata": {},
     "output_type": "execute_result"
    }
   ],
   "source": [
    "ct_pc"
   ]
  }
 ],
 "metadata": {
  "kernelspec": {
   "display_name": "Python 3 (ipykernel)",
   "language": "python",
   "name": "python3"
  },
  "language_info": {
   "codemirror_mode": {
    "name": "ipython",
    "version": 3
   },
   "file_extension": ".py",
   "mimetype": "text/x-python",
   "name": "python",
   "nbconvert_exporter": "python",
   "pygments_lexer": "ipython3",
   "version": "3.9.13"
  }
 },
 "nbformat": 4,
 "nbformat_minor": 5
}
